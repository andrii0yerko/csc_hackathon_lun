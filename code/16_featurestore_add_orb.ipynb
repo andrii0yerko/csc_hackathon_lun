{
 "cells": [
  {
   "cell_type": "code",
   "execution_count": 12,
   "metadata": {},
   "outputs": [
    {
     "name": "stdout",
     "output_type": "stream",
     "text": [
      "INFO: Pandarallel will run on 12 workers.\n",
      "INFO: Pandarallel will use standard multiprocessing data transfer (pipe) to transfer data between the main process and workers.\n",
      "\n",
      "WARNING: You are on Windows. If you detect any issue with pandarallel, be sure you checked out the Troubleshooting page:\n",
      "https://nalepae.github.io/pandarallel/troubleshooting/\n"
     ]
    }
   ],
   "source": [
    "from pathlib import Path\n",
    "import os\n",
    "\n",
    "import pandas as pd\n",
    "import numpy as np\n",
    "import matplotlib.pyplot as plt\n",
    "from tqdm.auto import tqdm as tn\n",
    "from pymongo import MongoClient, UpdateOne\n",
    "from pandarallel import pandarallel\n",
    "from creds import MONGO_SERVER_URL\n",
    "\n",
    "tn.pandas()\n",
    "pandarallel.initialize(progress_bar=True, nb_workers=os.cpu_count())"
   ]
  },
  {
   "cell_type": "code",
   "execution_count": 9,
   "metadata": {},
   "outputs": [],
   "source": [
    "DATASET_PATH = Path(\"../dataset\")\n",
    "IMAGES_TRAIN = DATASET_PATH / \"images_train_unpadded\"\n",
    "IMAGES_TEST = DATASET_PATH / \"images_test_unpadded\""
   ]
  },
  {
   "cell_type": "code",
   "execution_count": 3,
   "metadata": {},
   "outputs": [],
   "source": [
    "VERSION = \"v2.9_sift\"\n",
    "\n",
    "\n",
    "mc = MongoClient(\n",
    "    MONGO_SERVER_URL\n",
    ")\n",
    "featurestore = mc.csc.featurestore\n",
    "\n",
    "base_fields = [\n",
    "    \"_id\",\n",
    "    \"image_url1\",\n",
    "    \"image_url2\",\n",
    "    \"ID\",\n",
    "    \"is_same\",\n",
    "]\n",
    "\n",
    "features_v2 = [\n",
    "    # \"left_grayscale\",\n",
    "    # \"right_grayscale\",\n",
    "    # \"unpadded.ahash_16\",\n",
    "    \"unpadded.ahash_4\",\n",
    "    \"unpadded.ahash_8\",\n",
    "    \"unpadded.colorhash_21\",\n",
    "    # \"unpadded.colorhash_63\",\n",
    "    # \"unpadded.dhash_16\",\n",
    "    \"unpadded.dhash_4\",\n",
    "    \"unpadded.dhash_8\",\n",
    "    # \"unpadded.dhash_verical_16\",\n",
    "    \"unpadded.height_diff\",\n",
    "    \"unpadded.height_ratio\",\n",
    "    \"unpadded.left_height\",\n",
    "    \"unpadded.left_width\",\n",
    "    # \"unpadded.phash_16_8\",\n",
    "    \"unpadded.phash_4\",\n",
    "    \"unpadded.phash_8\",\n",
    "    \"unpadded.right_height\",\n",
    "    \"unpadded.right_width\",\n",
    "    \"unpadded.sift_similarity\",\n",
    "    # \"unpadded.whash_16_db4\",\n",
    "    # \"unpadded.whash_16_haar\",\n",
    "    \"unpadded.whash_4_haar\",\n",
    "    \"unpadded.whash_8_haar\",\n",
    "    \"unpadded.width_diff\",\n",
    "    \"unpadded.width_ratio\",\n",
    "]\n",
    "\n",
    "df = pd.json_normalize(featurestore.find({\"is_test\": False}, base_fields + features_v2))\n",
    "df_test = pd.json_normalize(featurestore.find({\"is_test\": True}, base_fields + features_v2))\n"
   ]
  },
  {
   "cell_type": "code",
   "execution_count": 10,
   "metadata": {},
   "outputs": [],
   "source": [
    "def orb_similarity(row, folder = IMAGES_TRAIN):\n",
    "    import cv2\n",
    "    orb = cv2.ORB_create()\n",
    "    FLANN_INDEX_LSH = 6\n",
    "    index_params = dict(algorithm = FLANN_INDEX_LSH, \n",
    "                        table_number = 6,\n",
    "                        key_size = 12,\n",
    "                        multi_probe_level = 1)\n",
    "    search_params = dict(checks=50)\n",
    "    flann = cv2.FlannBasedMatcher(index_params, search_params)\n",
    "\n",
    "    try:\n",
    "        img1 = cv2.imread(str(folder / row[\"image_url1\"]), cv2.IMREAD_GRAYSCALE)\n",
    "        img2 = cv2.imread(str(folder / row[\"image_url2\"]), cv2.IMREAD_GRAYSCALE)\n",
    "        kp1, des1 = orb.detectAndCompute(img1,None)\n",
    "        kp2, des2 = orb.detectAndCompute(img2,None)\n",
    "\n",
    "        matches = flann.knnMatch(des1, des2, k=2)\n",
    "\n",
    "        good_matches_count = 0\n",
    "        for pair in matches:\n",
    "            try:\n",
    "                m, n = pair\n",
    "                if m.distance < 0.7*n.distance:\n",
    "                    good_matches_count += 1\n",
    "\n",
    "            except ValueError:\n",
    "                pass\n",
    "\n",
    "        similarity = 2*good_matches_count/(len(kp1) + len(kp2))\n",
    "        return similarity\n",
    "    except Exception:\n",
    "        return 0"
   ]
  },
  {
   "cell_type": "code",
   "execution_count": 13,
   "metadata": {},
   "outputs": [
    {
     "data": {
      "application/vnd.jupyter.widget-view+json": {
       "model_id": "dce91c4ee25245a6ae6ab65e8dcdcce2",
       "version_major": 2,
       "version_minor": 0
      },
      "text/plain": [
       "VBox(children=(HBox(children=(IntProgress(value=0, description='0.00%', max=7554), Label(value='0 / 7554'))), …"
      ]
     },
     "metadata": {},
     "output_type": "display_data"
    }
   ],
   "source": [
    "df.loc[df.index, \"unpadded.orb_similarity\"] = df.parallel_apply(orb_similarity, axis=1)\n",
    "df_test.loc[df_test.index, \"unpadded.orb_similarity\"] = df_test.parallel_apply(orb_similarity, axis=1, folder=IMAGES_TEST)"
   ]
  },
  {
   "cell_type": "code",
   "execution_count": null,
   "metadata": {},
   "outputs": [],
   "source": [
    "def write(coll, df, operator=\"$set\"):\n",
    "    upds = []\n",
    "    for x in df.to_dict(\"records\"):\n",
    "        x = {k: v for k, v in x.items() if not pd.isna(v)}\n",
    "        upds.append(UpdateOne({\"_id\": x[\"_id\"]}, {operator: x}, upsert=True))\n",
    "    coll.bulk_write(upds)"
   ]
  },
  {
   "cell_type": "code",
   "execution_count": null,
   "metadata": {},
   "outputs": [],
   "source": [
    "df['is_same'] = True\n",
    "df_test['is_same'] = False\n",
    "\n",
    "df_res = pd.concat([df, df_test])"
   ]
  },
  {
   "cell_type": "code",
   "execution_count": null,
   "metadata": {},
   "outputs": [],
   "source": [
    "mc = MongoClient(MONGO_SERVER_URL)\n",
    "write(mc.csc.featurestore, df_res)"
   ]
  },
  {
   "cell_type": "code",
   "execution_count": null,
   "metadata": {},
   "outputs": [],
   "source": []
  }
 ],
 "metadata": {
  "kernelspec": {
   "display_name": "Python 3",
   "language": "python",
   "name": "python3"
  },
  "language_info": {
   "codemirror_mode": {
    "name": "ipython",
    "version": 3
   },
   "file_extension": ".py",
   "mimetype": "text/x-python",
   "name": "python",
   "nbconvert_exporter": "python",
   "pygments_lexer": "ipython3",
   "version": "3.11.4"
  },
  "orig_nbformat": 4
 },
 "nbformat": 4,
 "nbformat_minor": 2
}
