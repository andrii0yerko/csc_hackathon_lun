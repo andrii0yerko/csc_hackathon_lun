{
 "cells": [
  {
   "cell_type": "code",
   "execution_count": 4,
   "metadata": {},
   "outputs": [
    {
     "name": "stdout",
     "output_type": "stream",
     "text": [
      "usage: train.py [-h] [--batch BATCH_SIZE] [--epochs EPOCHS] [--width WIDTH]\n",
      "                [--height HEIGHT]\n",
      "\n",
      "Train siamese network.\n",
      "\n",
      "options:\n",
      "  -h, --help          show this help message and exit\n",
      "  --batch BATCH_SIZE  batch size (default: 4)\n",
      "  --epochs EPOCHS     number of epochs (default: 5)\n",
      "  --width WIDTH       width of input images (default: 512)\n",
      "  --height HEIGHT     height of input images (default: 512)\n"
     ]
    }
   ],
   "source": [
    "%%bash \n",
    "python ./12-siamese-network/train.py -h"
   ]
  },
  {
   "cell_type": "code",
   "execution_count": 5,
   "metadata": {},
   "outputs": [
    {
     "ename": "NameError",
     "evalue": "name 'DATA_PATH' is not defined",
     "output_type": "error",
     "traceback": [
      "\u001b[0;31m---------------------------------------------------------------------------\u001b[0m",
      "\u001b[0;31mNameError\u001b[0m                                 Traceback (most recent call last)",
      "Cell \u001b[0;32mIn[5], line 1\u001b[0m\n\u001b[0;32m----> 1\u001b[0m TRAIN_SPLIT_FILTERED_PATH \u001b[39m=\u001b[39m DATA_PATH \u001b[39m/\u001b[39m \u001b[39m\"\u001b[39m\u001b[39mtrain_split_filtered.csv\u001b[39m\u001b[39m\"\u001b[39m\n\u001b[1;32m      2\u001b[0m VAL_SPLIT_FILTERED_PATH \u001b[39m=\u001b[39m DATA_PATH \u001b[39m/\u001b[39m \u001b[39m\"\u001b[39m\u001b[39mval_split_filtered.csv\u001b[39m\u001b[39m\"\u001b[39m\n\u001b[1;32m      4\u001b[0m train_split_filtered \u001b[39m=\u001b[39m pd\u001b[39m.\u001b[39mread_csv(TRAIN_SPLIT_FILTERED_PATH)\n",
      "\u001b[0;31mNameError\u001b[0m: name 'DATA_PATH' is not defined"
     ]
    }
   ],
   "source": [
    "TRAIN_SPLIT_FILTERED_PATH = DATA_PATH / \"train_split_filtered.csv\"\n",
    "VAL_SPLIT_FILTERED_PATH = DATA_PATH / \"val_split_filtered.csv\"\n",
    "\n",
    "train_split_filtered = pd.read_csv(TRAIN_SPLIT_FILTERED_PATH)\n",
    "val_split_filtered = pd.read_csv(VAL_SPLIT_FILTERED_PATH)"
   ]
  },
  {
   "cell_type": "code",
   "execution_count": null,
   "metadata": {},
   "outputs": [],
   "source": []
  }
 ],
 "metadata": {
  "kernelspec": {
   "display_name": "torch",
   "language": "python",
   "name": "python3"
  },
  "language_info": {
   "codemirror_mode": {
    "name": "ipython",
    "version": 3
   },
   "file_extension": ".py",
   "mimetype": "text/x-python",
   "name": "python",
   "nbconvert_exporter": "python",
   "pygments_lexer": "ipython3",
   "version": "3.10.11"
  },
  "orig_nbformat": 4
 },
 "nbformat": 4,
 "nbformat_minor": 2
}
