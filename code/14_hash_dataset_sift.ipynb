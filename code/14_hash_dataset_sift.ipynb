{
 "cells": [
  {
   "cell_type": "code",
   "execution_count": 2,
   "metadata": {},
   "outputs": [
    {
     "name": "stdout",
     "output_type": "stream",
     "text": [
      "INFO: Pandarallel will run on 64 workers.\n",
      "INFO: Pandarallel will use Memory file system to transfer data between the main process and workers.\n"
     ]
    }
   ],
   "source": [
    "from pathlib import Path\n",
    "import os\n",
    "\n",
    "import pandas as pd\n",
    "import numpy as np\n",
    "import matplotlib.pyplot as plt\n",
    "from matplotlib.pyplot import figure\n",
    "from tqdm.auto import tqdm as tn\n",
    "from ipywidgets import interact\n",
    "import ipywidgets as widgets\n",
    "from PIL import Image\n",
    "import cv2\n",
    "\n",
    "from pandarallel import pandarallel\n",
    "\n",
    "tn.pandas()\n",
    "pandarallel.initialize(progress_bar=True, nb_workers=os.cpu_count())"
   ]
  },
  {
   "cell_type": "code",
   "execution_count": 3,
   "metadata": {},
   "outputs": [],
   "source": [
    "DATASET_PATH = Path(\"../dataset\")\n",
    "TRAIN_DATASET_PATH = DATASET_PATH / \"train_df_with_features_v2.csv\"\n",
    "VAL_DATASET_PATH = DATASET_PATH / \"val_df_with_features_v2.csv\"\n",
    "TEST_DATASET_PATH = DATASET_PATH / \"test_df_with_features_v2.csv\"\n",
    "IMAGES_TRAIN = DATASET_PATH / \"images_train_unpadded\"\n",
    "IMAGES_TEST = DATASET_PATH / \"images_test_unpadded\""
   ]
  },
  {
   "cell_type": "code",
   "execution_count": 4,
   "metadata": {},
   "outputs": [
    {
     "name": "stderr",
     "output_type": "stream",
     "text": [
      "/tmp/ipykernel_1532322/1041965977.py:1: DtypeWarning:\n",
      "\n",
      "Columns (21,22) have mixed types. Specify dtype option on import or set low_memory=False.\n",
      "\n"
     ]
    }
   ],
   "source": [
    "train_df = pd.read_csv(TRAIN_DATASET_PATH)\n",
    "val_df = pd.read_csv(VAL_DATASET_PATH)\n",
    "test_df = pd.read_csv(TEST_DATASET_PATH)"
   ]
  },
  {
   "cell_type": "code",
   "execution_count": 5,
   "metadata": {},
   "outputs": [],
   "source": [
    "train_df[\"width_diff\"] = np.abs(train_df[\"left_width\"] - train_df[\"right_width\"])\n",
    "train_df[\"height_diff\"] = np.abs(train_df[\"left_height\"] - train_df[\"right_height\"])\n",
    "val_df[\"width_diff\"] = np.abs(val_df[\"left_width\"] - val_df[\"right_width\"])\n",
    "val_df[\"height_diff\"] = np.abs(val_df[\"left_height\"] - val_df[\"right_height\"])\n",
    "test_df[\"width_diff\"] = np.abs(test_df[\"left_width\"] - test_df[\"right_width\"])\n",
    "test_df[\"height_diff\"] = np.abs(test_df[\"left_height\"] - test_df[\"right_height\"])"
   ]
  },
  {
   "cell_type": "code",
   "execution_count": 6,
   "metadata": {},
   "outputs": [],
   "source": [
    "train_df[\"width_ratio\"] = train_df.apply(lambda row: row[\"left_width\"] / row[\"right_width\"] if row[\"right_width\"] != 0 else 0, axis=1)\n",
    "train_df[\"height_ratio\"] = train_df.apply(lambda row: row[\"left_height\"] / row[\"right_height\"] if row[\"right_width\"] != 0 else 0, axis=1)\n",
    "val_df[\"width_ratio\"] = val_df.apply(lambda row: row[\"left_width\"] / row[\"right_width\"] if row[\"right_width\"] != 0 else 0, axis=1)\n",
    "val_df[\"height_ratio\"] = val_df.apply(lambda row: row[\"left_height\"] / row[\"right_height\"] if row[\"right_width\"] != 0 else 0, axis=1)\n",
    "test_df[\"width_ratio\"] = test_df.apply(lambda row: row[\"left_width\"] / row[\"right_width\"] if row[\"right_width\"] != 0 else 0, axis=1)\n",
    "test_df[\"height_ratio\"] = test_df.apply(lambda row: row[\"left_height\"] / row[\"right_height\"] if row[\"right_width\"] != 0 else 0, axis=1)"
   ]
  },
  {
   "cell_type": "code",
   "execution_count": 6,
   "metadata": {},
   "outputs": [],
   "source": [
    "# class MySIFT:\n",
    "#     from functools import cached_property\n",
    "\n",
    "#     def __init__(self, folder = IMAGES_TRAIN, flann_index_kdtree = 1):\n",
    "#         self.folder = folder\n",
    "#         self.flann_index_kdtree = flann_index_kdtree\n",
    "    \n",
    "#     @cached_property\n",
    "#     def sift(self):\n",
    "#         import cv2\n",
    "#         return cv2.SIFT_create()\n",
    "    \n",
    "#     @cached_property\n",
    "#     def flann(self):\n",
    "#         import cv2\n",
    "#         index_params = dict(algorithm=self.flann_index_kdtree, trees=5)\n",
    "#         search_params = dict(checks=50)\n",
    "#         flann = cv2.FlannBasedMatcher(index_params, search_params)\n",
    "#         return flann\n",
    "\n",
    "#     def sift_similarity(self, row):\n",
    "#         import cv2\n",
    "#         try:\n",
    "#             img1 = cv2.imread(str(self.folder / row[\"image_url1\"]), cv2.IMREAD_GRAYSCALE)\n",
    "#             img2 = cv2.imread(str(self.folder / row[\"image_url2\"]), cv2.IMREAD_GRAYSCALE)\n",
    "#             kp1, des1 = self.sift.detectAndCompute(img1,None)\n",
    "#             kp2, des2 = self.sift.detectAndCompute(img2,None)\n",
    "\n",
    "#             matches = self.flann.knnMatch(des1, des2, k=2)\n",
    "\n",
    "#             good_matches_count = 0\n",
    "#             for m, n in matches:\n",
    "#                 if m.distance < 0.7*n.distance:\n",
    "#                     good_matches_count += 1\n",
    "\n",
    "#             similarity = good_matches_count/len(kp2)\n",
    "#             return similarity\n",
    "#         except Exception:\n",
    "#             return 0"
   ]
  },
  {
   "cell_type": "code",
   "execution_count": 8,
   "metadata": {},
   "outputs": [],
   "source": [
    "def sift_similarity(row, folder = IMAGES_TRAIN, sigma=2.0, contrast_threshold=0.01, edge_threshold=20):\n",
    "    import cv2\n",
    "    sift = cv2.SIFT_create(sigma=sigma, contrastThreshold=contrast_threshold, edgeThreshold=edge_threshold)\n",
    "    FLANN_INDEX_KDTREE = 1\n",
    "    index_params = dict(algorithm = FLANN_INDEX_KDTREE, trees = 5)\n",
    "    search_params = dict(checks=50)\n",
    "    flann = cv2.FlannBasedMatcher(index_params, search_params)\n",
    "\n",
    "    try:\n",
    "        img1 = cv2.imread(str(folder / row[\"image_url1\"]), cv2.IMREAD_GRAYSCALE)\n",
    "        img2 = cv2.imread(str(folder / row[\"image_url2\"]), cv2.IMREAD_GRAYSCALE)\n",
    "        kp1, des1 = sift.detectAndCompute(img1,None)\n",
    "        kp2, des2 = sift.detectAndCompute(img2,None)\n",
    "\n",
    "        matches = flann.knnMatch(des1, des2, k=2)\n",
    "\n",
    "        good_matches_count = 0\n",
    "        for m, n in matches:\n",
    "            if m.distance < 0.7*n.distance:\n",
    "                good_matches_count += 1\n",
    "\n",
    "        similarity = good_matches_count/len(kp2)\n",
    "        return similarity\n",
    "    except Exception:\n",
    "        return 0"
   ]
  },
  {
   "cell_type": "code",
   "execution_count": 9,
   "metadata": {},
   "outputs": [
    {
     "data": {
      "application/vnd.jupyter.widget-view+json": {
       "model_id": "871e291d3bf149a6b4bdaa4203ba31b8",
       "version_major": 2,
       "version_minor": 0
      },
      "text/plain": [
       "VBox(children=(HBox(children=(IntProgress(value=0, description='0.00%', max=1133), Label(value='0 / 1133'))), …"
      ]
     },
     "metadata": {},
     "output_type": "display_data"
    }
   ],
   "source": [
    "train_df.loc[train_df.index, \"sift_similarity\"] = train_df.parallel_apply(sift_similarity, axis=1)"
   ]
  },
  {
   "cell_type": "code",
   "execution_count": 10,
   "metadata": {},
   "outputs": [
    {
     "data": {
      "text/html": [
       "<div>\n",
       "<style scoped>\n",
       "    .dataframe tbody tr th:only-of-type {\n",
       "        vertical-align: middle;\n",
       "    }\n",
       "\n",
       "    .dataframe tbody tr th {\n",
       "        vertical-align: top;\n",
       "    }\n",
       "\n",
       "    .dataframe thead th {\n",
       "        text-align: right;\n",
       "    }\n",
       "</style>\n",
       "<table border=\"1\" class=\"dataframe\">\n",
       "  <thead>\n",
       "    <tr style=\"text-align: right;\">\n",
       "      <th></th>\n",
       "      <th>image_url1</th>\n",
       "      <th>image_url2</th>\n",
       "      <th>is_same</th>\n",
       "      <th>image_path1</th>\n",
       "      <th>image_path2</th>\n",
       "      <th>ahash_16</th>\n",
       "      <th>phash_16_8</th>\n",
       "      <th>phash</th>\n",
       "      <th>dhash_verical_16</th>\n",
       "      <th>dhash_16</th>\n",
       "      <th>...</th>\n",
       "      <th>whash_16_db4</th>\n",
       "      <th>left_height</th>\n",
       "      <th>right_height</th>\n",
       "      <th>left_width</th>\n",
       "      <th>right_width</th>\n",
       "      <th>width_diff</th>\n",
       "      <th>height_diff</th>\n",
       "      <th>width_ratio</th>\n",
       "      <th>height_ratio</th>\n",
       "      <th>sift_similarity</th>\n",
       "    </tr>\n",
       "  </thead>\n",
       "  <tbody>\n",
       "    <tr>\n",
       "      <th>0</th>\n",
       "      <td>892325437.jpg</td>\n",
       "      <td>944751814.jpg</td>\n",
       "      <td>0</td>\n",
       "      <td>dataset/images-b1/892325437.jpg</td>\n",
       "      <td>dataset/images-b1/944751814.jpg</td>\n",
       "      <td>119.0</td>\n",
       "      <td>108.0</td>\n",
       "      <td>108.0</td>\n",
       "      <td>136.0</td>\n",
       "      <td>137.0</td>\n",
       "      <td>...</td>\n",
       "      <td>310.0</td>\n",
       "      <td>600.0</td>\n",
       "      <td>600.0</td>\n",
       "      <td>800.0</td>\n",
       "      <td>800.0</td>\n",
       "      <td>0.0</td>\n",
       "      <td>0.0</td>\n",
       "      <td>1.0000</td>\n",
       "      <td>1.000000</td>\n",
       "      <td>0.044818</td>\n",
       "    </tr>\n",
       "    <tr>\n",
       "      <th>1</th>\n",
       "      <td>965225293.jpg</td>\n",
       "      <td>965564035.jpg</td>\n",
       "      <td>1</td>\n",
       "      <td>dataset/images-b3/965225293.jpg</td>\n",
       "      <td>dataset/images-b1/965564035.jpg</td>\n",
       "      <td>0.0</td>\n",
       "      <td>0.0</td>\n",
       "      <td>0.0</td>\n",
       "      <td>0.0</td>\n",
       "      <td>0.0</td>\n",
       "      <td>...</td>\n",
       "      <td>0.0</td>\n",
       "      <td>800.0</td>\n",
       "      <td>800.0</td>\n",
       "      <td>600.0</td>\n",
       "      <td>600.0</td>\n",
       "      <td>0.0</td>\n",
       "      <td>0.0</td>\n",
       "      <td>1.0000</td>\n",
       "      <td>1.000000</td>\n",
       "      <td>1.000000</td>\n",
       "    </tr>\n",
       "    <tr>\n",
       "      <th>2</th>\n",
       "      <td>892403612.jpg</td>\n",
       "      <td>927225968.jpg</td>\n",
       "      <td>0</td>\n",
       "      <td>dataset/images-b3/892403612.jpg</td>\n",
       "      <td>dataset/images-b1/927225968.jpg</td>\n",
       "      <td>115.0</td>\n",
       "      <td>126.0</td>\n",
       "      <td>126.0</td>\n",
       "      <td>120.0</td>\n",
       "      <td>96.0</td>\n",
       "      <td>...</td>\n",
       "      <td>222.0</td>\n",
       "      <td>600.0</td>\n",
       "      <td>600.0</td>\n",
       "      <td>800.0</td>\n",
       "      <td>800.0</td>\n",
       "      <td>0.0</td>\n",
       "      <td>0.0</td>\n",
       "      <td>1.0000</td>\n",
       "      <td>1.000000</td>\n",
       "      <td>0.036188</td>\n",
       "    </tr>\n",
       "    <tr>\n",
       "      <th>3</th>\n",
       "      <td>917878082.jpg</td>\n",
       "      <td>921610429.jpg</td>\n",
       "      <td>1</td>\n",
       "      <td>dataset/images-b3/917878082.jpg</td>\n",
       "      <td>dataset/images-b2/921610429.jpg</td>\n",
       "      <td>10.0</td>\n",
       "      <td>24.0</td>\n",
       "      <td>24.0</td>\n",
       "      <td>19.0</td>\n",
       "      <td>25.0</td>\n",
       "      <td>...</td>\n",
       "      <td>28.0</td>\n",
       "      <td>600.0</td>\n",
       "      <td>600.0</td>\n",
       "      <td>800.0</td>\n",
       "      <td>800.0</td>\n",
       "      <td>0.0</td>\n",
       "      <td>0.0</td>\n",
       "      <td>1.0000</td>\n",
       "      <td>1.000000</td>\n",
       "      <td>0.537602</td>\n",
       "    </tr>\n",
       "    <tr>\n",
       "      <th>4</th>\n",
       "      <td>907769150.jpg</td>\n",
       "      <td>921819974.jpg</td>\n",
       "      <td>0</td>\n",
       "      <td>dataset/images-b3/907769150.jpg</td>\n",
       "      <td>dataset/images-b1/921819974.jpg</td>\n",
       "      <td>73.0</td>\n",
       "      <td>100.0</td>\n",
       "      <td>100.0</td>\n",
       "      <td>107.0</td>\n",
       "      <td>114.0</td>\n",
       "      <td>...</td>\n",
       "      <td>116.0</td>\n",
       "      <td>800.0</td>\n",
       "      <td>600.0</td>\n",
       "      <td>600.0</td>\n",
       "      <td>800.0</td>\n",
       "      <td>200.0</td>\n",
       "      <td>200.0</td>\n",
       "      <td>0.7500</td>\n",
       "      <td>1.333333</td>\n",
       "      <td>0.020619</td>\n",
       "    </tr>\n",
       "    <tr>\n",
       "      <th>...</th>\n",
       "      <td>...</td>\n",
       "      <td>...</td>\n",
       "      <td>...</td>\n",
       "      <td>...</td>\n",
       "      <td>...</td>\n",
       "      <td>...</td>\n",
       "      <td>...</td>\n",
       "      <td>...</td>\n",
       "      <td>...</td>\n",
       "      <td>...</td>\n",
       "      <td>...</td>\n",
       "      <td>...</td>\n",
       "      <td>...</td>\n",
       "      <td>...</td>\n",
       "      <td>...</td>\n",
       "      <td>...</td>\n",
       "      <td>...</td>\n",
       "      <td>...</td>\n",
       "      <td>...</td>\n",
       "      <td>...</td>\n",
       "      <td>...</td>\n",
       "    </tr>\n",
       "    <tr>\n",
       "      <th>72482</th>\n",
       "      <td>896077337.jpg</td>\n",
       "      <td>932363571.jpg</td>\n",
       "      <td>0</td>\n",
       "      <td>dataset/images-b2/896077337.jpg</td>\n",
       "      <td>dataset/images-b3/932363571.jpg</td>\n",
       "      <td>140.0</td>\n",
       "      <td>104.0</td>\n",
       "      <td>104.0</td>\n",
       "      <td>118.0</td>\n",
       "      <td>104.0</td>\n",
       "      <td>...</td>\n",
       "      <td>250.0</td>\n",
       "      <td>600.0</td>\n",
       "      <td>600.0</td>\n",
       "      <td>800.0</td>\n",
       "      <td>800.0</td>\n",
       "      <td>0.0</td>\n",
       "      <td>0.0</td>\n",
       "      <td>1.0000</td>\n",
       "      <td>1.000000</td>\n",
       "      <td>NaN</td>\n",
       "    </tr>\n",
       "    <tr>\n",
       "      <th>72483</th>\n",
       "      <td>919255125.jpg</td>\n",
       "      <td>922397616.jpg</td>\n",
       "      <td>0</td>\n",
       "      <td>dataset/images-b3/919255125.jpg</td>\n",
       "      <td>dataset/images-b1/922397616.jpg</td>\n",
       "      <td>96.0</td>\n",
       "      <td>108.0</td>\n",
       "      <td>108.0</td>\n",
       "      <td>117.0</td>\n",
       "      <td>103.0</td>\n",
       "      <td>...</td>\n",
       "      <td>222.0</td>\n",
       "      <td>600.0</td>\n",
       "      <td>563.0</td>\n",
       "      <td>800.0</td>\n",
       "      <td>1000.0</td>\n",
       "      <td>200.0</td>\n",
       "      <td>37.0</td>\n",
       "      <td>0.8000</td>\n",
       "      <td>1.065719</td>\n",
       "      <td>NaN</td>\n",
       "    </tr>\n",
       "    <tr>\n",
       "      <th>72484</th>\n",
       "      <td>924310310.jpg</td>\n",
       "      <td>925806417.jpg</td>\n",
       "      <td>1</td>\n",
       "      <td>dataset/images-b3/924310310.jpg</td>\n",
       "      <td>dataset/images-b1/925806417.jpg</td>\n",
       "      <td>4.0</td>\n",
       "      <td>0.0</td>\n",
       "      <td>0.0</td>\n",
       "      <td>3.0</td>\n",
       "      <td>0.0</td>\n",
       "      <td>...</td>\n",
       "      <td>2.0</td>\n",
       "      <td>600.0</td>\n",
       "      <td>600.0</td>\n",
       "      <td>800.0</td>\n",
       "      <td>800.0</td>\n",
       "      <td>0.0</td>\n",
       "      <td>0.0</td>\n",
       "      <td>1.0000</td>\n",
       "      <td>1.000000</td>\n",
       "      <td>NaN</td>\n",
       "    </tr>\n",
       "    <tr>\n",
       "      <th>72485</th>\n",
       "      <td>927655303.jpg</td>\n",
       "      <td>931435054.jpg</td>\n",
       "      <td>1</td>\n",
       "      <td>dataset/images-b1/927655303.jpg</td>\n",
       "      <td>dataset/images-b2/931435054.jpg</td>\n",
       "      <td>2.0</td>\n",
       "      <td>8.0</td>\n",
       "      <td>8.0</td>\n",
       "      <td>4.0</td>\n",
       "      <td>6.0</td>\n",
       "      <td>...</td>\n",
       "      <td>98.0</td>\n",
       "      <td>800.0</td>\n",
       "      <td>800.0</td>\n",
       "      <td>600.0</td>\n",
       "      <td>600.0</td>\n",
       "      <td>0.0</td>\n",
       "      <td>0.0</td>\n",
       "      <td>1.0000</td>\n",
       "      <td>1.000000</td>\n",
       "      <td>NaN</td>\n",
       "    </tr>\n",
       "    <tr>\n",
       "      <th>72486</th>\n",
       "      <td>913684554.jpg</td>\n",
       "      <td>928701005.jpg</td>\n",
       "      <td>0</td>\n",
       "      <td>dataset/images-b1/913684554.jpg</td>\n",
       "      <td>dataset/images-b3/928701005.jpg</td>\n",
       "      <td>109.0</td>\n",
       "      <td>120.0</td>\n",
       "      <td>120.0</td>\n",
       "      <td>146.0</td>\n",
       "      <td>119.0</td>\n",
       "      <td>...</td>\n",
       "      <td>238.0</td>\n",
       "      <td>600.0</td>\n",
       "      <td>600.0</td>\n",
       "      <td>450.0</td>\n",
       "      <td>800.0</td>\n",
       "      <td>350.0</td>\n",
       "      <td>0.0</td>\n",
       "      <td>0.5625</td>\n",
       "      <td>1.000000</td>\n",
       "      <td>NaN</td>\n",
       "    </tr>\n",
       "  </tbody>\n",
       "</table>\n",
       "<p>72487 rows × 25 columns</p>\n",
       "</div>"
      ],
      "text/plain": [
       "          image_url1     image_url2  is_same                      image_path1  \\\n",
       "0      892325437.jpg  944751814.jpg        0  dataset/images-b1/892325437.jpg   \n",
       "1      965225293.jpg  965564035.jpg        1  dataset/images-b3/965225293.jpg   \n",
       "2      892403612.jpg  927225968.jpg        0  dataset/images-b3/892403612.jpg   \n",
       "3      917878082.jpg  921610429.jpg        1  dataset/images-b3/917878082.jpg   \n",
       "4      907769150.jpg  921819974.jpg        0  dataset/images-b3/907769150.jpg   \n",
       "...              ...            ...      ...                              ...   \n",
       "72482  896077337.jpg  932363571.jpg        0  dataset/images-b2/896077337.jpg   \n",
       "72483  919255125.jpg  922397616.jpg        0  dataset/images-b3/919255125.jpg   \n",
       "72484  924310310.jpg  925806417.jpg        1  dataset/images-b3/924310310.jpg   \n",
       "72485  927655303.jpg  931435054.jpg        1  dataset/images-b1/927655303.jpg   \n",
       "72486  913684554.jpg  928701005.jpg        0  dataset/images-b1/913684554.jpg   \n",
       "\n",
       "                           image_path2  ahash_16  phash_16_8  phash  \\\n",
       "0      dataset/images-b1/944751814.jpg     119.0       108.0  108.0   \n",
       "1      dataset/images-b1/965564035.jpg       0.0         0.0    0.0   \n",
       "2      dataset/images-b1/927225968.jpg     115.0       126.0  126.0   \n",
       "3      dataset/images-b2/921610429.jpg      10.0        24.0   24.0   \n",
       "4      dataset/images-b1/921819974.jpg      73.0       100.0  100.0   \n",
       "...                                ...       ...         ...    ...   \n",
       "72482  dataset/images-b3/932363571.jpg     140.0       104.0  104.0   \n",
       "72483  dataset/images-b1/922397616.jpg      96.0       108.0  108.0   \n",
       "72484  dataset/images-b1/925806417.jpg       4.0         0.0    0.0   \n",
       "72485  dataset/images-b2/931435054.jpg       2.0         8.0    8.0   \n",
       "72486  dataset/images-b3/928701005.jpg     109.0       120.0  120.0   \n",
       "\n",
       "       dhash_verical_16  dhash_16  ...  whash_16_db4  left_height  \\\n",
       "0                 136.0     137.0  ...         310.0        600.0   \n",
       "1                   0.0       0.0  ...           0.0        800.0   \n",
       "2                 120.0      96.0  ...         222.0        600.0   \n",
       "3                  19.0      25.0  ...          28.0        600.0   \n",
       "4                 107.0     114.0  ...         116.0        800.0   \n",
       "...                 ...       ...  ...           ...          ...   \n",
       "72482             118.0     104.0  ...         250.0        600.0   \n",
       "72483             117.0     103.0  ...         222.0        600.0   \n",
       "72484               3.0       0.0  ...           2.0        600.0   \n",
       "72485               4.0       6.0  ...          98.0        800.0   \n",
       "72486             146.0     119.0  ...         238.0        600.0   \n",
       "\n",
       "       right_height  left_width  right_width  width_diff  height_diff  \\\n",
       "0             600.0       800.0        800.0         0.0          0.0   \n",
       "1             800.0       600.0        600.0         0.0          0.0   \n",
       "2             600.0       800.0        800.0         0.0          0.0   \n",
       "3             600.0       800.0        800.0         0.0          0.0   \n",
       "4             600.0       600.0        800.0       200.0        200.0   \n",
       "...             ...         ...          ...         ...          ...   \n",
       "72482         600.0       800.0        800.0         0.0          0.0   \n",
       "72483         563.0       800.0       1000.0       200.0         37.0   \n",
       "72484         600.0       800.0        800.0         0.0          0.0   \n",
       "72485         800.0       600.0        600.0         0.0          0.0   \n",
       "72486         600.0       450.0        800.0       350.0          0.0   \n",
       "\n",
       "       width_ratio  height_ratio  sift_similarity  \n",
       "0           1.0000      1.000000         0.044818  \n",
       "1           1.0000      1.000000         1.000000  \n",
       "2           1.0000      1.000000         0.036188  \n",
       "3           1.0000      1.000000         0.537602  \n",
       "4           0.7500      1.333333         0.020619  \n",
       "...            ...           ...              ...  \n",
       "72482       1.0000      1.000000              NaN  \n",
       "72483       0.8000      1.065719              NaN  \n",
       "72484       1.0000      1.000000              NaN  \n",
       "72485       1.0000      1.000000              NaN  \n",
       "72486       0.5625      1.000000              NaN  \n",
       "\n",
       "[72487 rows x 25 columns]"
      ]
     },
     "execution_count": 10,
     "metadata": {},
     "output_type": "execute_result"
    }
   ],
   "source": [
    "train_df"
   ]
  },
  {
   "cell_type": "code",
   "execution_count": 11,
   "metadata": {},
   "outputs": [
    {
     "data": {
      "application/vnd.jupyter.widget-view+json": {
       "model_id": "954a53e07a5e4a0f8d21c405e817dab4",
       "version_major": 2,
       "version_minor": 0
      },
      "text/plain": [
       "VBox(children=(HBox(children=(IntProgress(value=0, description='0.00%', max=284), Label(value='0 / 284'))), HB…"
      ]
     },
     "metadata": {},
     "output_type": "display_data"
    }
   ],
   "source": [
    "val_df.loc[val_df.index, \"sift_similarity\"] = val_df.parallel_apply(sift_similarity, axis=1)"
   ]
  },
  {
   "cell_type": "code",
   "execution_count": 12,
   "metadata": {},
   "outputs": [
    {
     "data": {
      "application/vnd.jupyter.widget-view+json": {
       "model_id": "1c2193dbbbc341e5b36ed8f7bf147b44",
       "version_major": 2,
       "version_minor": 0
      },
      "text/plain": [
       "VBox(children=(HBox(children=(IntProgress(value=0, description='0.00%', max=355), Label(value='0 / 355'))), HB…"
      ]
     },
     "metadata": {},
     "output_type": "display_data"
    }
   ],
   "source": [
    "test_df.loc[test_df.index, \"sift_similarity\"] = test_df.parallel_apply(sift_similarity, folder=IMAGES_TEST, axis=1)"
   ]
  },
  {
   "attachments": {},
   "cell_type": "markdown",
   "metadata": {},
   "source": [
    "## Have to save result in your own fashion"
   ]
  },
  {
   "cell_type": "code",
   "execution_count": 10,
   "metadata": {},
   "outputs": [],
   "source": [
    "train_df.to_csv(DATASET_PATH / \"train_df_with_features_v2_sift.csv\", index=False)"
   ]
  },
  {
   "cell_type": "code",
   "execution_count": 13,
   "metadata": {},
   "outputs": [],
   "source": [
    "val_df.to_csv(DATASET_PATH / \"val_df_with_features_v2_sift.csv\", index=False)\n",
    "test_df.to_csv(DATASET_PATH / \"test_df_with_features_v2_sift.csv\", index=False)"
   ]
  },
  {
   "attachments": {},
   "cell_type": "markdown",
   "metadata": {},
   "source": [
    "## Grid search"
   ]
  },
  {
   "cell_type": "code",
   "execution_count": 8,
   "metadata": {},
   "outputs": [],
   "source": [
    "SPLIT_COLUMN = 'phash_16_8'"
   ]
  },
  {
   "cell_type": "code",
   "execution_count": 9,
   "metadata": {},
   "outputs": [],
   "source": [
    "df_susp = train_df[(train_df[SPLIT_COLUMN] <= 90) & (train_df[SPLIT_COLUMN] >= 55)]"
   ]
  },
  {
   "cell_type": "code",
   "execution_count": 10,
   "metadata": {},
   "outputs": [
    {
     "data": {
      "text/plain": [
       "1502"
      ]
     },
     "execution_count": 10,
     "metadata": {},
     "output_type": "execute_result"
    }
   ],
   "source": [
    "len(df_susp)"
   ]
  },
  {
   "cell_type": "code",
   "execution_count": 12,
   "metadata": {},
   "outputs": [
    {
     "data": {
      "application/vnd.jupyter.widget-view+json": {
       "model_id": "a10718576ce4438ca4700065cd082e32",
       "version_major": 2,
       "version_minor": 0
      },
      "text/plain": [
       "VBox(children=(HBox(children=(IntProgress(value=0, description='0.00%', max=9), Label(value='0 / 9'))), HBox(c…"
      ]
     },
     "metadata": {},
     "output_type": "display_data"
    }
   ],
   "source": [
    "df_susp.loc[df_susp.index[:100], \"sift_similarity\"] = df_susp.iloc[:100].parallel_apply(sift_similarity, axis=1)"
   ]
  },
  {
   "cell_type": "code",
   "execution_count": 13,
   "metadata": {},
   "outputs": [],
   "source": [
    "SIGMAS = [0.5, 1.0, 1.4, 2.]\n",
    "EDGES_THRESHS = [1, 3, 10, 20]\n",
    "CONSTRAST_THRESHS = [0.01, 0.02, 0.04, 0.1]"
   ]
  },
  {
   "cell_type": "code",
   "execution_count": 14,
   "metadata": {},
   "outputs": [],
   "source": [
    "from sklearn.metrics import f1_score"
   ]
  },
  {
   "cell_type": "code",
   "execution_count": 21,
   "metadata": {},
   "outputs": [
    {
     "data": {
      "application/vnd.jupyter.widget-view+json": {
       "model_id": "67ce0206791f4d9686eb7421bde784d6",
       "version_major": 2,
       "version_minor": 0
      },
      "text/plain": [
       "VBox(children=(HBox(children=(IntProgress(value=0, description='0.00%', max=126), Label(value='0 / 126'))), HB…"
      ]
     },
     "metadata": {},
     "output_type": "display_data"
    },
    {
     "name": "stdout",
     "output_type": "stream",
     "text": [
      "SKIPPING\n"
     ]
    },
    {
     "data": {
      "application/vnd.jupyter.widget-view+json": {
       "model_id": "06e6dee70ec04a02af80bbf26ed25037",
       "version_major": 2,
       "version_minor": 0
      },
      "text/plain": [
       "VBox(children=(HBox(children=(IntProgress(value=0, description='0.00%', max=126), Label(value='0 / 126'))), HB…"
      ]
     },
     "metadata": {},
     "output_type": "display_data"
    },
    {
     "name": "stdout",
     "output_type": "stream",
     "text": [
      "SKIPPING\n"
     ]
    },
    {
     "data": {
      "application/vnd.jupyter.widget-view+json": {
       "model_id": "e46c125c989347a882f58e4f1ed9c859",
       "version_major": 2,
       "version_minor": 0
      },
      "text/plain": [
       "VBox(children=(HBox(children=(IntProgress(value=0, description='0.00%', max=126), Label(value='0 / 126'))), HB…"
      ]
     },
     "metadata": {},
     "output_type": "display_data"
    },
    {
     "name": "stdout",
     "output_type": "stream",
     "text": [
      "SKIPPING\n"
     ]
    },
    {
     "data": {
      "application/vnd.jupyter.widget-view+json": {
       "model_id": "92163ec017e34efdabf937666fd963e0",
       "version_major": 2,
       "version_minor": 0
      },
      "text/plain": [
       "VBox(children=(HBox(children=(IntProgress(value=0, description='0.00%', max=126), Label(value='0 / 126'))), HB…"
      ]
     },
     "metadata": {},
     "output_type": "display_data"
    },
    {
     "name": "stdout",
     "output_type": "stream",
     "text": [
      "SKIPPING\n"
     ]
    },
    {
     "data": {
      "application/vnd.jupyter.widget-view+json": {
       "model_id": "b7900e03bee0412c9786652a72f3afa2",
       "version_major": 2,
       "version_minor": 0
      },
      "text/plain": [
       "VBox(children=(HBox(children=(IntProgress(value=0, description='0.00%', max=126), Label(value='0 / 126'))), HB…"
      ]
     },
     "metadata": {},
     "output_type": "display_data"
    },
    {
     "data": {
      "application/vnd.jupyter.widget-view+json": {
       "model_id": "d26f0bc8888641b4b19caaf91e34a416",
       "version_major": 2,
       "version_minor": 0
      },
      "text/plain": [
       "VBox(children=(HBox(children=(IntProgress(value=0, description='0.00%', max=126), Label(value='0 / 126'))), HB…"
      ]
     },
     "metadata": {},
     "output_type": "display_data"
    },
    {
     "data": {
      "application/vnd.jupyter.widget-view+json": {
       "model_id": "d5fb64d139c64ebdbdb1ef1fe17116a0",
       "version_major": 2,
       "version_minor": 0
      },
      "text/plain": [
       "VBox(children=(HBox(children=(IntProgress(value=0, description='0.00%', max=126), Label(value='0 / 126'))), HB…"
      ]
     },
     "metadata": {},
     "output_type": "display_data"
    },
    {
     "data": {
      "application/vnd.jupyter.widget-view+json": {
       "model_id": "d5fafea9ed1543978382b0550fa87d83",
       "version_major": 2,
       "version_minor": 0
      },
      "text/plain": [
       "VBox(children=(HBox(children=(IntProgress(value=0, description='0.00%', max=126), Label(value='0 / 126'))), HB…"
      ]
     },
     "metadata": {},
     "output_type": "display_data"
    },
    {
     "data": {
      "application/vnd.jupyter.widget-view+json": {
       "model_id": "91f255d9b90d4272a3522609621f81eb",
       "version_major": 2,
       "version_minor": 0
      },
      "text/plain": [
       "VBox(children=(HBox(children=(IntProgress(value=0, description='0.00%', max=126), Label(value='0 / 126'))), HB…"
      ]
     },
     "metadata": {},
     "output_type": "display_data"
    },
    {
     "data": {
      "application/vnd.jupyter.widget-view+json": {
       "model_id": "7d973d35518f48a2b50f11a34419f84b",
       "version_major": 2,
       "version_minor": 0
      },
      "text/plain": [
       "VBox(children=(HBox(children=(IntProgress(value=0, description='0.00%', max=126), Label(value='0 / 126'))), HB…"
      ]
     },
     "metadata": {},
     "output_type": "display_data"
    },
    {
     "data": {
      "application/vnd.jupyter.widget-view+json": {
       "model_id": "45fab17cfb3e44498bdf39a89c2e16f1",
       "version_major": 2,
       "version_minor": 0
      },
      "text/plain": [
       "VBox(children=(HBox(children=(IntProgress(value=0, description='0.00%', max=126), Label(value='0 / 126'))), HB…"
      ]
     },
     "metadata": {},
     "output_type": "display_data"
    },
    {
     "data": {
      "application/vnd.jupyter.widget-view+json": {
       "model_id": "496c49805e7942d38ff7112c571385f9",
       "version_major": 2,
       "version_minor": 0
      },
      "text/plain": [
       "VBox(children=(HBox(children=(IntProgress(value=0, description='0.00%', max=126), Label(value='0 / 126'))), HB…"
      ]
     },
     "metadata": {},
     "output_type": "display_data"
    },
    {
     "data": {
      "application/vnd.jupyter.widget-view+json": {
       "model_id": "498b615042e4450796bb9d0f2c6c22be",
       "version_major": 2,
       "version_minor": 0
      },
      "text/plain": [
       "VBox(children=(HBox(children=(IntProgress(value=0, description='0.00%', max=126), Label(value='0 / 126'))), HB…"
      ]
     },
     "metadata": {},
     "output_type": "display_data"
    },
    {
     "data": {
      "application/vnd.jupyter.widget-view+json": {
       "model_id": "e39b62d66fd44747b406e0b660003d1a",
       "version_major": 2,
       "version_minor": 0
      },
      "text/plain": [
       "VBox(children=(HBox(children=(IntProgress(value=0, description='0.00%', max=126), Label(value='0 / 126'))), HB…"
      ]
     },
     "metadata": {},
     "output_type": "display_data"
    },
    {
     "data": {
      "application/vnd.jupyter.widget-view+json": {
       "model_id": "c9a25a2a518446119b316c59f39b17bb",
       "version_major": 2,
       "version_minor": 0
      },
      "text/plain": [
       "VBox(children=(HBox(children=(IntProgress(value=0, description='0.00%', max=126), Label(value='0 / 126'))), HB…"
      ]
     },
     "metadata": {},
     "output_type": "display_data"
    },
    {
     "data": {
      "application/vnd.jupyter.widget-view+json": {
       "model_id": "30e8b56c9ddb4b44a71c8f2bee8c1a15",
       "version_major": 2,
       "version_minor": 0
      },
      "text/plain": [
       "VBox(children=(HBox(children=(IntProgress(value=0, description='0.00%', max=126), Label(value='0 / 126'))), HB…"
      ]
     },
     "metadata": {},
     "output_type": "display_data"
    },
    {
     "data": {
      "application/vnd.jupyter.widget-view+json": {
       "model_id": "af290063a0724b9eb3aa6b6c81b72157",
       "version_major": 2,
       "version_minor": 0
      },
      "text/plain": [
       "VBox(children=(HBox(children=(IntProgress(value=0, description='0.00%', max=126), Label(value='0 / 126'))), HB…"
      ]
     },
     "metadata": {},
     "output_type": "display_data"
    },
    {
     "name": "stdout",
     "output_type": "stream",
     "text": [
      "SKIPPING\n"
     ]
    },
    {
     "data": {
      "application/vnd.jupyter.widget-view+json": {
       "model_id": "02c9eea744db486c839e7146cbcbb135",
       "version_major": 2,
       "version_minor": 0
      },
      "text/plain": [
       "VBox(children=(HBox(children=(IntProgress(value=0, description='0.00%', max=126), Label(value='0 / 126'))), HB…"
      ]
     },
     "metadata": {},
     "output_type": "display_data"
    },
    {
     "name": "stdout",
     "output_type": "stream",
     "text": [
      "SKIPPING\n"
     ]
    },
    {
     "data": {
      "application/vnd.jupyter.widget-view+json": {
       "model_id": "b2cc6e51747f40c9bb2d35e5f607d16d",
       "version_major": 2,
       "version_minor": 0
      },
      "text/plain": [
       "VBox(children=(HBox(children=(IntProgress(value=0, description='0.00%', max=126), Label(value='0 / 126'))), HB…"
      ]
     },
     "metadata": {},
     "output_type": "display_data"
    },
    {
     "name": "stdout",
     "output_type": "stream",
     "text": [
      "SKIPPING\n"
     ]
    },
    {
     "data": {
      "application/vnd.jupyter.widget-view+json": {
       "model_id": "002eb7db5b35404da6508374eccd81af",
       "version_major": 2,
       "version_minor": 0
      },
      "text/plain": [
       "VBox(children=(HBox(children=(IntProgress(value=0, description='0.00%', max=126), Label(value='0 / 126'))), HB…"
      ]
     },
     "metadata": {},
     "output_type": "display_data"
    },
    {
     "name": "stdout",
     "output_type": "stream",
     "text": [
      "SKIPPING\n"
     ]
    },
    {
     "data": {
      "application/vnd.jupyter.widget-view+json": {
       "model_id": "7507fe90b70a40d2be4df22885215159",
       "version_major": 2,
       "version_minor": 0
      },
      "text/plain": [
       "VBox(children=(HBox(children=(IntProgress(value=0, description='0.00%', max=126), Label(value='0 / 126'))), HB…"
      ]
     },
     "metadata": {},
     "output_type": "display_data"
    },
    {
     "data": {
      "application/vnd.jupyter.widget-view+json": {
       "model_id": "2e208a2707aa404db0c0becc15512a9d",
       "version_major": 2,
       "version_minor": 0
      },
      "text/plain": [
       "VBox(children=(HBox(children=(IntProgress(value=0, description='0.00%', max=126), Label(value='0 / 126'))), HB…"
      ]
     },
     "metadata": {},
     "output_type": "display_data"
    },
    {
     "data": {
      "application/vnd.jupyter.widget-view+json": {
       "model_id": "a30cb5ea76c343dead38ad6710cf14f9",
       "version_major": 2,
       "version_minor": 0
      },
      "text/plain": [
       "VBox(children=(HBox(children=(IntProgress(value=0, description='0.00%', max=126), Label(value='0 / 126'))), HB…"
      ]
     },
     "metadata": {},
     "output_type": "display_data"
    },
    {
     "data": {
      "application/vnd.jupyter.widget-view+json": {
       "model_id": "81f20ba0626a40f69952edd72fd91d19",
       "version_major": 2,
       "version_minor": 0
      },
      "text/plain": [
       "VBox(children=(HBox(children=(IntProgress(value=0, description='0.00%', max=126), Label(value='0 / 126'))), HB…"
      ]
     },
     "metadata": {},
     "output_type": "display_data"
    },
    {
     "data": {
      "application/vnd.jupyter.widget-view+json": {
       "model_id": "8184bc8163d4444c9ce13fb4752336d4",
       "version_major": 2,
       "version_minor": 0
      },
      "text/plain": [
       "VBox(children=(HBox(children=(IntProgress(value=0, description='0.00%', max=126), Label(value='0 / 126'))), HB…"
      ]
     },
     "metadata": {},
     "output_type": "display_data"
    },
    {
     "data": {
      "application/vnd.jupyter.widget-view+json": {
       "model_id": "ec89ccb0b77647f289a676e27085a340",
       "version_major": 2,
       "version_minor": 0
      },
      "text/plain": [
       "VBox(children=(HBox(children=(IntProgress(value=0, description='0.00%', max=126), Label(value='0 / 126'))), HB…"
      ]
     },
     "metadata": {},
     "output_type": "display_data"
    },
    {
     "data": {
      "application/vnd.jupyter.widget-view+json": {
       "model_id": "30bb910e7cfe4c2d929adacf73aa586c",
       "version_major": 2,
       "version_minor": 0
      },
      "text/plain": [
       "VBox(children=(HBox(children=(IntProgress(value=0, description='0.00%', max=126), Label(value='0 / 126'))), HB…"
      ]
     },
     "metadata": {},
     "output_type": "display_data"
    },
    {
     "data": {
      "application/vnd.jupyter.widget-view+json": {
       "model_id": "f896d23a2488496dba63c2226cb8fc43",
       "version_major": 2,
       "version_minor": 0
      },
      "text/plain": [
       "VBox(children=(HBox(children=(IntProgress(value=0, description='0.00%', max=126), Label(value='0 / 126'))), HB…"
      ]
     },
     "metadata": {},
     "output_type": "display_data"
    },
    {
     "data": {
      "application/vnd.jupyter.widget-view+json": {
       "model_id": "392c7588009849fa8173296c64f3961a",
       "version_major": 2,
       "version_minor": 0
      },
      "text/plain": [
       "VBox(children=(HBox(children=(IntProgress(value=0, description='0.00%', max=126), Label(value='0 / 126'))), HB…"
      ]
     },
     "metadata": {},
     "output_type": "display_data"
    },
    {
     "data": {
      "application/vnd.jupyter.widget-view+json": {
       "model_id": "44149ff7a882412d98d48d9bdc6f0064",
       "version_major": 2,
       "version_minor": 0
      },
      "text/plain": [
       "VBox(children=(HBox(children=(IntProgress(value=0, description='0.00%', max=126), Label(value='0 / 126'))), HB…"
      ]
     },
     "metadata": {},
     "output_type": "display_data"
    },
    {
     "data": {
      "application/vnd.jupyter.widget-view+json": {
       "model_id": "461e571ffea647cfba28b780a94bb80d",
       "version_major": 2,
       "version_minor": 0
      },
      "text/plain": [
       "VBox(children=(HBox(children=(IntProgress(value=0, description='0.00%', max=126), Label(value='0 / 126'))), HB…"
      ]
     },
     "metadata": {},
     "output_type": "display_data"
    },
    {
     "data": {
      "application/vnd.jupyter.widget-view+json": {
       "model_id": "efcd72c9c5584030bde3e8869824e5a1",
       "version_major": 2,
       "version_minor": 0
      },
      "text/plain": [
       "VBox(children=(HBox(children=(IntProgress(value=0, description='0.00%', max=126), Label(value='0 / 126'))), HB…"
      ]
     },
     "metadata": {},
     "output_type": "display_data"
    },
    {
     "data": {
      "application/vnd.jupyter.widget-view+json": {
       "model_id": "2a7f95ad5c194c4e960d81a94bb040dd",
       "version_major": 2,
       "version_minor": 0
      },
      "text/plain": [
       "VBox(children=(HBox(children=(IntProgress(value=0, description='0.00%', max=126), Label(value='0 / 126'))), HB…"
      ]
     },
     "metadata": {},
     "output_type": "display_data"
    },
    {
     "name": "stdout",
     "output_type": "stream",
     "text": [
      "SKIPPING\n"
     ]
    },
    {
     "data": {
      "application/vnd.jupyter.widget-view+json": {
       "model_id": "34dade3503a24f599d9090e9eb61772f",
       "version_major": 2,
       "version_minor": 0
      },
      "text/plain": [
       "VBox(children=(HBox(children=(IntProgress(value=0, description='0.00%', max=126), Label(value='0 / 126'))), HB…"
      ]
     },
     "metadata": {},
     "output_type": "display_data"
    },
    {
     "name": "stdout",
     "output_type": "stream",
     "text": [
      "SKIPPING\n"
     ]
    },
    {
     "data": {
      "application/vnd.jupyter.widget-view+json": {
       "model_id": "05c9446146ac45ebbbba1bb3c4e12412",
       "version_major": 2,
       "version_minor": 0
      },
      "text/plain": [
       "VBox(children=(HBox(children=(IntProgress(value=0, description='0.00%', max=126), Label(value='0 / 126'))), HB…"
      ]
     },
     "metadata": {},
     "output_type": "display_data"
    },
    {
     "name": "stdout",
     "output_type": "stream",
     "text": [
      "SKIPPING\n"
     ]
    },
    {
     "data": {
      "application/vnd.jupyter.widget-view+json": {
       "model_id": "552d5db449e64b6481ebd3c9c71e2f24",
       "version_major": 2,
       "version_minor": 0
      },
      "text/plain": [
       "VBox(children=(HBox(children=(IntProgress(value=0, description='0.00%', max=126), Label(value='0 / 126'))), HB…"
      ]
     },
     "metadata": {},
     "output_type": "display_data"
    },
    {
     "name": "stdout",
     "output_type": "stream",
     "text": [
      "SKIPPING\n"
     ]
    },
    {
     "data": {
      "application/vnd.jupyter.widget-view+json": {
       "model_id": "503c441a4b284ee296dc67be5a176f80",
       "version_major": 2,
       "version_minor": 0
      },
      "text/plain": [
       "VBox(children=(HBox(children=(IntProgress(value=0, description='0.00%', max=126), Label(value='0 / 126'))), HB…"
      ]
     },
     "metadata": {},
     "output_type": "display_data"
    },
    {
     "data": {
      "application/vnd.jupyter.widget-view+json": {
       "model_id": "a141d5dad8f74159ae42465da5feb651",
       "version_major": 2,
       "version_minor": 0
      },
      "text/plain": [
       "VBox(children=(HBox(children=(IntProgress(value=0, description='0.00%', max=126), Label(value='0 / 126'))), HB…"
      ]
     },
     "metadata": {},
     "output_type": "display_data"
    },
    {
     "data": {
      "application/vnd.jupyter.widget-view+json": {
       "model_id": "910d277bdde845418bbf5d83cdf0e034",
       "version_major": 2,
       "version_minor": 0
      },
      "text/plain": [
       "VBox(children=(HBox(children=(IntProgress(value=0, description='0.00%', max=126), Label(value='0 / 126'))), HB…"
      ]
     },
     "metadata": {},
     "output_type": "display_data"
    },
    {
     "data": {
      "application/vnd.jupyter.widget-view+json": {
       "model_id": "4e996c10dee545608f63b829ef21c8ff",
       "version_major": 2,
       "version_minor": 0
      },
      "text/plain": [
       "VBox(children=(HBox(children=(IntProgress(value=0, description='0.00%', max=126), Label(value='0 / 126'))), HB…"
      ]
     },
     "metadata": {},
     "output_type": "display_data"
    },
    {
     "data": {
      "application/vnd.jupyter.widget-view+json": {
       "model_id": "2b02a75c6add4d319bcdee691a72383d",
       "version_major": 2,
       "version_minor": 0
      },
      "text/plain": [
       "VBox(children=(HBox(children=(IntProgress(value=0, description='0.00%', max=126), Label(value='0 / 126'))), HB…"
      ]
     },
     "metadata": {},
     "output_type": "display_data"
    },
    {
     "data": {
      "application/vnd.jupyter.widget-view+json": {
       "model_id": "18fab1f2e8974591adbfb33ed9eb05a7",
       "version_major": 2,
       "version_minor": 0
      },
      "text/plain": [
       "VBox(children=(HBox(children=(IntProgress(value=0, description='0.00%', max=126), Label(value='0 / 126'))), HB…"
      ]
     },
     "metadata": {},
     "output_type": "display_data"
    },
    {
     "data": {
      "application/vnd.jupyter.widget-view+json": {
       "model_id": "1b0393629c7940cda8522af7ab6fa90b",
       "version_major": 2,
       "version_minor": 0
      },
      "text/plain": [
       "VBox(children=(HBox(children=(IntProgress(value=0, description='0.00%', max=126), Label(value='0 / 126'))), HB…"
      ]
     },
     "metadata": {},
     "output_type": "display_data"
    },
    {
     "data": {
      "application/vnd.jupyter.widget-view+json": {
       "model_id": "675e6c79b507491e9d28476d04afb1b9",
       "version_major": 2,
       "version_minor": 0
      },
      "text/plain": [
       "VBox(children=(HBox(children=(IntProgress(value=0, description='0.00%', max=126), Label(value='0 / 126'))), HB…"
      ]
     },
     "metadata": {},
     "output_type": "display_data"
    },
    {
     "data": {
      "application/vnd.jupyter.widget-view+json": {
       "model_id": "54331f98ce59462eacdda19a27ecee70",
       "version_major": 2,
       "version_minor": 0
      },
      "text/plain": [
       "VBox(children=(HBox(children=(IntProgress(value=0, description='0.00%', max=126), Label(value='0 / 126'))), HB…"
      ]
     },
     "metadata": {},
     "output_type": "display_data"
    },
    {
     "data": {
      "application/vnd.jupyter.widget-view+json": {
       "model_id": "a3baa9b69bbf43a5a28c7ed382498782",
       "version_major": 2,
       "version_minor": 0
      },
      "text/plain": [
       "VBox(children=(HBox(children=(IntProgress(value=0, description='0.00%', max=126), Label(value='0 / 126'))), HB…"
      ]
     },
     "metadata": {},
     "output_type": "display_data"
    },
    {
     "data": {
      "application/vnd.jupyter.widget-view+json": {
       "model_id": "2c8d88ba7727467ebe24d643ca80d98c",
       "version_major": 2,
       "version_minor": 0
      },
      "text/plain": [
       "VBox(children=(HBox(children=(IntProgress(value=0, description='0.00%', max=126), Label(value='0 / 126'))), HB…"
      ]
     },
     "metadata": {},
     "output_type": "display_data"
    },
    {
     "data": {
      "application/vnd.jupyter.widget-view+json": {
       "model_id": "c5941d7a4bb74a8eb65a91bb566edea1",
       "version_major": 2,
       "version_minor": 0
      },
      "text/plain": [
       "VBox(children=(HBox(children=(IntProgress(value=0, description='0.00%', max=126), Label(value='0 / 126'))), HB…"
      ]
     },
     "metadata": {},
     "output_type": "display_data"
    },
    {
     "data": {
      "application/vnd.jupyter.widget-view+json": {
       "model_id": "ad5187ddce0f41649c5c6dd9eb4b764a",
       "version_major": 2,
       "version_minor": 0
      },
      "text/plain": [
       "VBox(children=(HBox(children=(IntProgress(value=0, description='0.00%', max=126), Label(value='0 / 126'))), HB…"
      ]
     },
     "metadata": {},
     "output_type": "display_data"
    },
    {
     "name": "stdout",
     "output_type": "stream",
     "text": [
      "SKIPPING\n"
     ]
    },
    {
     "data": {
      "application/vnd.jupyter.widget-view+json": {
       "model_id": "80e7164a49504749b2bf31cccc3a767d",
       "version_major": 2,
       "version_minor": 0
      },
      "text/plain": [
       "VBox(children=(HBox(children=(IntProgress(value=0, description='0.00%', max=126), Label(value='0 / 126'))), HB…"
      ]
     },
     "metadata": {},
     "output_type": "display_data"
    },
    {
     "name": "stdout",
     "output_type": "stream",
     "text": [
      "SKIPPING\n"
     ]
    },
    {
     "data": {
      "application/vnd.jupyter.widget-view+json": {
       "model_id": "eea31c68e9874c67aaf9562f882ca92d",
       "version_major": 2,
       "version_minor": 0
      },
      "text/plain": [
       "VBox(children=(HBox(children=(IntProgress(value=0, description='0.00%', max=126), Label(value='0 / 126'))), HB…"
      ]
     },
     "metadata": {},
     "output_type": "display_data"
    },
    {
     "name": "stdout",
     "output_type": "stream",
     "text": [
      "SKIPPING\n"
     ]
    },
    {
     "data": {
      "application/vnd.jupyter.widget-view+json": {
       "model_id": "f129271a3f8340d5801ec4d44a037021",
       "version_major": 2,
       "version_minor": 0
      },
      "text/plain": [
       "VBox(children=(HBox(children=(IntProgress(value=0, description='0.00%', max=126), Label(value='0 / 126'))), HB…"
      ]
     },
     "metadata": {},
     "output_type": "display_data"
    },
    {
     "name": "stdout",
     "output_type": "stream",
     "text": [
      "SKIPPING\n"
     ]
    },
    {
     "data": {
      "application/vnd.jupyter.widget-view+json": {
       "model_id": "caeada4bd1e74b87b9ed688591cdd353",
       "version_major": 2,
       "version_minor": 0
      },
      "text/plain": [
       "VBox(children=(HBox(children=(IntProgress(value=0, description='0.00%', max=126), Label(value='0 / 126'))), HB…"
      ]
     },
     "metadata": {},
     "output_type": "display_data"
    },
    {
     "data": {
      "application/vnd.jupyter.widget-view+json": {
       "model_id": "179dc44fb44548a5a9c4c32dae50621a",
       "version_major": 2,
       "version_minor": 0
      },
      "text/plain": [
       "VBox(children=(HBox(children=(IntProgress(value=0, description='0.00%', max=126), Label(value='0 / 126'))), HB…"
      ]
     },
     "metadata": {},
     "output_type": "display_data"
    },
    {
     "data": {
      "application/vnd.jupyter.widget-view+json": {
       "model_id": "58cbb2f0870c492a8d2658e1ea71d0d4",
       "version_major": 2,
       "version_minor": 0
      },
      "text/plain": [
       "VBox(children=(HBox(children=(IntProgress(value=0, description='0.00%', max=126), Label(value='0 / 126'))), HB…"
      ]
     },
     "metadata": {},
     "output_type": "display_data"
    },
    {
     "data": {
      "application/vnd.jupyter.widget-view+json": {
       "model_id": "66932999baf64b74af4ca2096d124bbf",
       "version_major": 2,
       "version_minor": 0
      },
      "text/plain": [
       "VBox(children=(HBox(children=(IntProgress(value=0, description='0.00%', max=126), Label(value='0 / 126'))), HB…"
      ]
     },
     "metadata": {},
     "output_type": "display_data"
    },
    {
     "data": {
      "application/vnd.jupyter.widget-view+json": {
       "model_id": "94ccf0e964124bb4957e7d9a027f91a1",
       "version_major": 2,
       "version_minor": 0
      },
      "text/plain": [
       "VBox(children=(HBox(children=(IntProgress(value=0, description='0.00%', max=126), Label(value='0 / 126'))), HB…"
      ]
     },
     "metadata": {},
     "output_type": "display_data"
    },
    {
     "data": {
      "application/vnd.jupyter.widget-view+json": {
       "model_id": "29ff404b5ebb4c74a1ceea691aa6fc05",
       "version_major": 2,
       "version_minor": 0
      },
      "text/plain": [
       "VBox(children=(HBox(children=(IntProgress(value=0, description='0.00%', max=126), Label(value='0 / 126'))), HB…"
      ]
     },
     "metadata": {},
     "output_type": "display_data"
    },
    {
     "data": {
      "application/vnd.jupyter.widget-view+json": {
       "model_id": "3a73dc91942e4401851f825b0dc4302b",
       "version_major": 2,
       "version_minor": 0
      },
      "text/plain": [
       "VBox(children=(HBox(children=(IntProgress(value=0, description='0.00%', max=126), Label(value='0 / 126'))), HB…"
      ]
     },
     "metadata": {},
     "output_type": "display_data"
    },
    {
     "data": {
      "application/vnd.jupyter.widget-view+json": {
       "model_id": "68f367294e7d45598a205a75221b66df",
       "version_major": 2,
       "version_minor": 0
      },
      "text/plain": [
       "VBox(children=(HBox(children=(IntProgress(value=0, description='0.00%', max=126), Label(value='0 / 126'))), HB…"
      ]
     },
     "metadata": {},
     "output_type": "display_data"
    },
    {
     "data": {
      "application/vnd.jupyter.widget-view+json": {
       "model_id": "596f9ffd06224113b4752d6fd3f54974",
       "version_major": 2,
       "version_minor": 0
      },
      "text/plain": [
       "VBox(children=(HBox(children=(IntProgress(value=0, description='0.00%', max=126), Label(value='0 / 126'))), HB…"
      ]
     },
     "metadata": {},
     "output_type": "display_data"
    },
    {
     "data": {
      "application/vnd.jupyter.widget-view+json": {
       "model_id": "a1829198588b46f38f7a9eaac9a3c6d4",
       "version_major": 2,
       "version_minor": 0
      },
      "text/plain": [
       "VBox(children=(HBox(children=(IntProgress(value=0, description='0.00%', max=126), Label(value='0 / 126'))), HB…"
      ]
     },
     "metadata": {},
     "output_type": "display_data"
    },
    {
     "data": {
      "application/vnd.jupyter.widget-view+json": {
       "model_id": "02c25f2e713e4c65a138e0daf91df9bf",
       "version_major": 2,
       "version_minor": 0
      },
      "text/plain": [
       "VBox(children=(HBox(children=(IntProgress(value=0, description='0.00%', max=126), Label(value='0 / 126'))), HB…"
      ]
     },
     "metadata": {},
     "output_type": "display_data"
    },
    {
     "data": {
      "application/vnd.jupyter.widget-view+json": {
       "model_id": "d189820e9b874a0ebcc96b09b7701908",
       "version_major": 2,
       "version_minor": 0
      },
      "text/plain": [
       "VBox(children=(HBox(children=(IntProgress(value=0, description='0.00%', max=126), Label(value='0 / 126'))), HB…"
      ]
     },
     "metadata": {},
     "output_type": "display_data"
    }
   ],
   "source": [
    "results = {}\n",
    "for sigma in SIGMAS:\n",
    "    for edge_thresh in EDGES_THRESHS:\n",
    "        for contrast_thresh in CONSTRAST_THRESHS:\n",
    "            df_susp.loc[df_susp.index, \"sift_similarity\"] = df_susp.parallel_apply(sift_similarity, axis=1, sigma=sigma, \n",
    "                                                                                  edge_threshold=edge_thresh, contrast_threshold=contrast_thresh)\n",
    "\n",
    "            f1s = {}\n",
    "            max_sim = df_susp[\"sift_similarity\"].max()\n",
    "            min_sim = df_susp[\"sift_similarity\"].min()\n",
    "            if max_sim == min_sim:\n",
    "                print('SKIPPING')\n",
    "                continue\n",
    "            for i in np.arange(min_sim, max_sim, step=min(0.001, (max_sim - min_sim)/100)):\n",
    "                f1s[i] = (f1_score(df_susp[\"is_same\"], df_susp[\"sift_similarity\"] > i) + f1_score(1 - df_susp[\"is_same\"], df_susp[\"sift_similarity\"] <= i)) / 2\n",
    "            \n",
    "            threshold = max(f1s, key=f1s.get)\n",
    "\n",
    "            results[str({'sigma': sigma, 'edge': edge_thresh, 'contrast': contrast_thresh})] = f1s[threshold]"
   ]
  },
  {
   "cell_type": "code",
   "execution_count": 22,
   "metadata": {},
   "outputs": [],
   "source": [
    "best_params = max(results, key=results.get)"
   ]
  },
  {
   "cell_type": "code",
   "execution_count": 23,
   "metadata": {},
   "outputs": [
    {
     "data": {
      "text/plain": [
       "(\"{'sigma': 2.0, 'edge': 20, 'contrast': 0.01}\", 0.9726419314755507)"
      ]
     },
     "execution_count": 23,
     "metadata": {},
     "output_type": "execute_result"
    }
   ],
   "source": [
    "best_params, results[best_params]"
   ]
  },
  {
   "cell_type": "code",
   "execution_count": null,
   "metadata": {},
   "outputs": [],
   "source": [
    "plt.hist([df_susp[df_susp[TARGET_COLUMN] == 1][\"sift_similarity\"], df_susp[df_susp[TARGET_COLUMN] == 0][\"sift_similarity\"]], \n",
    "                                  bins=20, stacked=True, label=[\"Equal\", \"Different\"])\n",
    "plt.show()"
   ]
  }
 ],
 "metadata": {
  "kernelspec": {
   "display_name": "Python 3 (ipykernel)",
   "language": "python",
   "name": "python3"
  },
  "language_info": {
   "codemirror_mode": {
    "name": "ipython",
    "version": 3
   },
   "file_extension": ".py",
   "mimetype": "text/x-python",
   "name": "python",
   "nbconvert_exporter": "python",
   "pygments_lexer": "ipython3",
   "version": "3.10.6"
  },
  "orig_nbformat": 4
 },
 "nbformat": 4,
 "nbformat_minor": 2
}
