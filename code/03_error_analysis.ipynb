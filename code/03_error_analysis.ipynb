{
 "cells": [
  {
   "cell_type": "code",
   "execution_count": 64,
   "metadata": {},
   "outputs": [
    {
     "name": "stdout",
     "output_type": "stream",
     "text": [
      "INFO: Pandarallel will run on 64 workers.\n",
      "INFO: Pandarallel will use Memory file system to transfer data between the main process and workers.\n"
     ]
    }
   ],
   "source": [
    "import itertools\n",
    "import os\n",
    "from pathlib import Path\n",
    "\n",
    "import numpy as np\n",
    "import pandas as pd\n",
    "import imagehash\n",
    "import skimage\n",
    "from PIL import Image, UnidentifiedImageError\n",
    "from tqdm.auto import tqdm as tn\n",
    "\n",
    "from pandarallel import pandarallel\n",
    "\n",
    "\n",
    "tn.pandas()\n",
    "pandarallel.initialize(progress_bar=True, nb_workers=os.cpu_count())"
   ]
  },
  {
   "cell_type": "code",
   "execution_count": 65,
   "metadata": {},
   "outputs": [],
   "source": [
    "\n",
    "DATA_PATH = Path(\"data\")\n",
    "COMP_DATA_PATH = Path(\"data\")\n",
    "IMAGE_PATH = Path(\"dataset\")\n",
    "\n",
    "TEST_SET = COMP_DATA_PATH / \"test-data.csv\"\n",
    "TRAIN_SPLIT = DATA_PATH / \"train_split_20perval_grouped_stratified.csv\"\n",
    "VAL_SPLIT = DATA_PATH / \"val_split_20perval_grouped_stratified.csv\"\n",
    "\n",
    "IMG_GLOB = \"images_*_unpadded/*.jpg\""
   ]
  },
  {
   "cell_type": "code",
   "execution_count": 66,
   "metadata": {},
   "outputs": [],
   "source": [
    "def bind_fs(df, path: Path, glob: str):\n",
    "    mapping = {x.name: x for x in path.glob(glob)}\n",
    "    return df.applymap(lambda x: mapping.get(x))"
   ]
  },
  {
   "cell_type": "code",
   "execution_count": 121,
   "metadata": {},
   "outputs": [],
   "source": [
    "df = pd.read_csv(\"boosting_v2.1_sift_val_pred.csv\", index_col=0)\n",
    "df[[\"image_path1\", \"image_path2\"]] = bind_fs(df.filter(like=\"image_url\"), IMAGE_PATH, IMG_GLOB)\n",
    "df[\"predict_label\"] = (df[\"predict\"] > 0.3).astype(int)\n"
   ]
  },
  {
   "cell_type": "code",
   "execution_count": 122,
   "metadata": {},
   "outputs": [],
   "source": [
    "errdf = df[df[\"is_same\"] != df[\"predict_label\"]]"
   ]
  },
  {
   "cell_type": "code",
   "execution_count": 123,
   "metadata": {},
   "outputs": [
    {
     "data": {
      "text/plain": [
       "<sklearn.metrics._plot.confusion_matrix.ConfusionMatrixDisplay at 0x7f1ebdd8e290>"
      ]
     },
     "execution_count": 123,
     "metadata": {},
     "output_type": "execute_result"
    },
    {
     "data": {
      "image/png": "[encoded data removed]",
      "text/plain": [
       "<Figure size 1200x500 with 2 Axes>"
      ]
     },
     "metadata": {},
     "output_type": "display_data"
    }
   ],
   "source": [
    "from sklearn.metrics import confusion_matrix, ConfusionMatrixDisplay\n",
    "\n",
    "# errdf2 = errdf.drop(errdf.iloc[[8, 9, 10, 14]].index)\n",
    "errdf2 = errdf\n",
    "\n",
    "cm = confusion_matrix(errdf2[\"is_same\"], errdf2[\"predict_label\"])\n",
    "disp = ConfusionMatrixDisplay(confusion_matrix=cm,)\n",
    "disp.plot()"
   ]
  },
  {
   "cell_type": "code",
   "execution_count": 30,
   "metadata": {},
   "outputs": [],
   "source": [
    "from IPython.display import display\n",
    "\n",
    "\n",
    "def display_side_by_side(img1, img2):\n",
    "    fig, ax = plt.subplots(1, 2, figsize=(10, 10))\n",
    "    ax[0].imshow(img1)\n",
    "    ax[1].imshow(img2)\n",
    "    ax[0].axis(\"off\")\n",
    "    ax[1].axis(\"off\")"
   ]
  },
  {
   "cell_type": "code",
   "execution_count": null,
   "metadata": {},
   "outputs": [],
   "source": [
    "[1, 2, 4, 7, 8, 18]\n"
   ]
  },
  {
   "cell_type": "code",
   "execution_count": null,
   "metadata": {},
   "outputs": [],
   "source": [
    "[1, 4, 6, 9, 16, 17]"
   ]
  },
  {
   "cell_type": "code",
   "execution_count": null,
   "metadata": {},
   "outputs": [],
   "source": [
    "[0, 1, 5, 6, 9, 10]"
   ]
  },
  {
   "cell_type": "code",
   "execution_count": 138,
   "metadata": {},
   "outputs": [
    {
     "ename": "IndexError",
     "evalue": "single positional indexer is out-of-bounds",
     "output_type": "error",
     "traceback": [
      "\u001b[0;31m---------------------------------------------------------------------------\u001b[0m",
      "\u001b[0;31mIndexError\u001b[0m                                Traceback (most recent call last)",
      "\u001b[1;32m/home/_projects/jup/data/dev/Others/yerko/other/csc/code/03_error_analysis.ipynb Cell 11\u001b[0m in \u001b[0;36m1\n\u001b[0;32m----> <a href='vscode-notebook-cell://ssh-remote%2Bhobo2.min.org.ua/home/_projects/jup/data/dev/Others/yerko/other/csc/code/03_error_analysis.ipynb#X11sdnNjb2RlLXJlbW90ZQ%3D%3D?line=0'>1</a>\u001b[0m row \u001b[39m=\u001b[39m errdf\u001b[39m.\u001b[39miloc[\u001b[39m11\u001b[39m]\n\u001b[1;32m      <a href='vscode-notebook-cell://ssh-remote%2Bhobo2.min.org.ua/home/_projects/jup/data/dev/Others/yerko/other/csc/code/03_error_analysis.ipynb#X11sdnNjb2RlLXJlbW90ZQ%3D%3D?line=1'>2</a>\u001b[0m img1 \u001b[39m=\u001b[39m Image\u001b[39m.\u001b[39mopen(row[\u001b[39m\"\u001b[39m\u001b[39mimage_path1\u001b[39m\u001b[39m\"\u001b[39m])\n\u001b[1;32m      <a href='vscode-notebook-cell://ssh-remote%2Bhobo2.min.org.ua/home/_projects/jup/data/dev/Others/yerko/other/csc/code/03_error_analysis.ipynb#X11sdnNjb2RlLXJlbW90ZQ%3D%3D?line=2'>3</a>\u001b[0m img2 \u001b[39m=\u001b[39m Image\u001b[39m.\u001b[39mopen(row[\u001b[39m\"\u001b[39m\u001b[39mimage_path2\u001b[39m\u001b[39m\"\u001b[39m])\n",
      "File \u001b[0;32m/opt/conda/lib/python3.10/site-packages/pandas/core/indexing.py:1074\u001b[0m, in \u001b[0;36m_LocationIndexer.__getitem__\u001b[0;34m(self, key)\u001b[0m\n\u001b[1;32m   1071\u001b[0m axis \u001b[39m=\u001b[39m \u001b[39mself\u001b[39m\u001b[39m.\u001b[39maxis \u001b[39mor\u001b[39;00m \u001b[39m0\u001b[39m\n\u001b[1;32m   1073\u001b[0m maybe_callable \u001b[39m=\u001b[39m com\u001b[39m.\u001b[39mapply_if_callable(key, \u001b[39mself\u001b[39m\u001b[39m.\u001b[39mobj)\n\u001b[0;32m-> 1074\u001b[0m \u001b[39mreturn\u001b[39;00m \u001b[39mself\u001b[39;49m\u001b[39m.\u001b[39;49m_getitem_axis(maybe_callable, axis\u001b[39m=\u001b[39;49maxis)\n",
      "File \u001b[0;32m/opt/conda/lib/python3.10/site-packages/pandas/core/indexing.py:1626\u001b[0m, in \u001b[0;36m_iLocIndexer._getitem_axis\u001b[0;34m(self, key, axis)\u001b[0m\n\u001b[1;32m   1623\u001b[0m     \u001b[39mraise\u001b[39;00m \u001b[39mTypeError\u001b[39;00m(\u001b[39m\"\u001b[39m\u001b[39mCannot index by location index with a non-integer key\u001b[39m\u001b[39m\"\u001b[39m)\n\u001b[1;32m   1625\u001b[0m \u001b[39m# validate the location\u001b[39;00m\n\u001b[0;32m-> 1626\u001b[0m \u001b[39mself\u001b[39;49m\u001b[39m.\u001b[39;49m_validate_integer(key, axis)\n\u001b[1;32m   1628\u001b[0m \u001b[39mreturn\u001b[39;00m \u001b[39mself\u001b[39m\u001b[39m.\u001b[39mobj\u001b[39m.\u001b[39m_ixs(key, axis\u001b[39m=\u001b[39maxis)\n",
      "File \u001b[0;32m/opt/conda/lib/python3.10/site-packages/pandas/core/indexing.py:1558\u001b[0m, in \u001b[0;36m_iLocIndexer._validate_integer\u001b[0;34m(self, key, axis)\u001b[0m\n\u001b[1;32m   1556\u001b[0m len_axis \u001b[39m=\u001b[39m \u001b[39mlen\u001b[39m(\u001b[39mself\u001b[39m\u001b[39m.\u001b[39mobj\u001b[39m.\u001b[39m_get_axis(axis))\n\u001b[1;32m   1557\u001b[0m \u001b[39mif\u001b[39;00m key \u001b[39m>\u001b[39m\u001b[39m=\u001b[39m len_axis \u001b[39mor\u001b[39;00m key \u001b[39m<\u001b[39m \u001b[39m-\u001b[39mlen_axis:\n\u001b[0;32m-> 1558\u001b[0m     \u001b[39mraise\u001b[39;00m \u001b[39mIndexError\u001b[39;00m(\u001b[39m\"\u001b[39m\u001b[39msingle positional indexer is out-of-bounds\u001b[39m\u001b[39m\"\u001b[39m)\n",
      "\u001b[0;31mIndexError\u001b[0m: single positional indexer is out-of-bounds"
     ]
    }
   ],
   "source": [
    "row = errdf.iloc[11]\n",
    "img1 = Image.open(row[\"image_path1\"])\n",
    "img2 = Image.open(row[\"image_path2\"])\n",
    "display_side_by_side(img1, img2)\n",
    "plt.tight_layout()\n",
    "plt.suptitle(\"True label is {}, predicted {}\".format(row[\"is_same\"], row[\"predict_label\"]))"
   ]
  },
  {
   "cell_type": "code",
   "execution_count": 130,
   "metadata": {},
   "outputs": [
    {
     "data": {
      "text/plain": [
       "image_url1                                        920937715.jpg\n",
       "image_url2                                        938244202.jpg\n",
       "is_same                                                       0\n",
       "image_path1         dataset/images_train_unpadded/920937715.jpg\n",
       "image_path2         dataset/images_train_unpadded/938244202.jpg\n",
       "ahash_16                                                     55\n",
       "ahash_8                                                      12\n",
       "ahash_4                                                       3\n",
       "phash_16_8                                                   94\n",
       "phash_8                                                      16\n",
       "phash_4                                                       6\n",
       "dhash_verical_16                                             58\n",
       "dhash_16                                                     87\n",
       "dhash_8                                                      11\n",
       "dhash_4                                                       5\n",
       "colorhash_21                                                 96\n",
       "colorhash_63                                                265\n",
       "whash_16_haar                                                56\n",
       "whash_8_haar                                                 12\n",
       "whash_4_haar                                                  4\n",
       "whash_16_db4                                               90.0\n",
       "left_grayscale                                            False\n",
       "right_grayscale                                           False\n",
       "left_height                                                3264\n",
       "right_height                                                700\n",
       "left_width                                                 2448\n",
       "right_width                                                 525\n",
       "width_diff                                                 1923\n",
       "height_diff                                                2564\n",
       "width_ratio                                            4.662857\n",
       "height_ratio                                           4.662857\n",
       "sift_similarity                                        0.098856\n",
       "predict                                                0.505403\n",
       "predict_label                                                 1\n",
       "Name: 3910, dtype: object"
      ]
     },
     "execution_count": 130,
     "metadata": {},
     "output_type": "execute_result"
    }
   ],
   "source": [
    "row"
   ]
  },
  {
   "cell_type": "code",
   "execution_count": 19,
   "metadata": {},
   "outputs": [
    {
     "data": {
      "text/plain": [
       "count    21.000000\n",
       "mean      0.334919\n",
       "std       0.290111\n",
       "min       0.063418\n",
       "25%       0.072909\n",
       "50%       0.256260\n",
       "75%       0.425135\n",
       "max       0.869532\n",
       "Name: predict, dtype: float64"
      ]
     },
     "execution_count": 19,
     "metadata": {},
     "output_type": "execute_result"
    }
   ],
   "source": [
    "errdf[\"predict\"].describe()"
   ]
  },
  {
   "cell_type": "code",
   "execution_count": 22,
   "metadata": {},
   "outputs": [
    {
     "data": {
      "text/plain": [
       "5874"
      ]
     },
     "execution_count": 22,
     "metadata": {},
     "output_type": "execute_result"
    }
   ],
   "source": [
    "v = df[df[\"predict_label\"] == df[\"is_same\"]][\"predict\"]\n",
    "\n",
    "((v > 0.1) & (v < 0.9)).sum()"
   ]
  },
  {
   "cell_type": "code",
   "execution_count": null,
   "metadata": {},
   "outputs": [],
   "source": []
  }
 ],
 "metadata": {
  "kernelspec": {
   "display_name": "Python 3 (ipykernel)",
   "language": "python",
   "name": "python3"
  },
  "language_info": {
   "codemirror_mode": {
    "name": "ipython",
    "version": 3
   },
   "file_extension": ".py",
   "mimetype": "text/x-python",
   "name": "python",
   "nbconvert_exporter": "python",
   "pygments_lexer": "ipython3",
   "version": "3.10.6"
  },
  "orig_nbformat": 4
 },
 "nbformat": 4,
 "nbformat_minor": 2
}
