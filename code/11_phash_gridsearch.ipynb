{
 "cells": [
  {
   "cell_type": "code",
   "execution_count": 17,
   "metadata": {},
   "outputs": [
    {
     "name": "stdout",
     "output_type": "stream",
     "text": [
      "INFO: Pandarallel will run on 8 workers.\n",
      "INFO: Pandarallel will use Memory file system to transfer data between the main process and workers.\n"
     ]
    }
   ],
   "source": [
    "import os\n",
    "from pathlib import Path\n",
    "\n",
    "import numpy as np\n",
    "import pandas as pd\n",
    "import imagehash\n",
    "from PIL import Image, UnidentifiedImageError\n",
    "from tqdm.auto import tqdm as tn\n",
    "from sklearn.metrics import f1_score\n",
    "import wandb\n",
    "\n",
    "from pandarallel import pandarallel\n",
    "\n",
    "\n",
    "tn.pandas()\n",
    "pandarallel.initialize(progress_bar=True, nb_workers=os.cpu_count())"
   ]
  },
  {
   "cell_type": "code",
   "execution_count": 8,
   "metadata": {},
   "outputs": [],
   "source": [
    "DATA_PATH = Path(\"../data\")\n",
    "COMP_DATA_PATH = Path(\"../data\")\n",
    "IMAGE_PATH = Path(\"../dataset\")\n",
    "\n",
    "TEST_SET = COMP_DATA_PATH / \"test-data.csv\"\n",
    "TRAIN_SPLIT = DATA_PATH / \"train_split_20perval_grouped_stratified.csv\"\n",
    "VAL_SPLIT = DATA_PATH / \"val_split_20perval_grouped_stratified.csv\"\n",
    "\n",
    "IMG_GLOB = \"images*/*.jpg\""
   ]
  },
  {
   "cell_type": "code",
   "execution_count": 9,
   "metadata": {},
   "outputs": [],
   "source": [
    "def bind_fs(df, path: Path, glob: str):\n",
    "    mapping = {x.name: x for x in path.glob(glob)}\n",
    "    return df.applymap(lambda x: mapping.get(x))"
   ]
  },
  {
   "cell_type": "code",
   "execution_count": 10,
   "metadata": {},
   "outputs": [],
   "source": [
    "val_df = pd.read_csv(VAL_SPLIT)\n",
    "val_df[[\"image_path1\", \"image_path2\"]] = bind_fs(val_df.filter(like=\"image_url\"), IMAGE_PATH, IMG_GLOB)\n",
    "\n",
    "train_df = pd.read_csv(TRAIN_SPLIT)\n",
    "train_df[[\"image_path1\", \"image_path2\"]] = bind_fs(train_df.filter(like=\"image_url\"), IMAGE_PATH, IMG_GLOB)\n",
    "\n",
    "test_df = pd.read_csv(TEST_SET)\n",
    "test_df[[\"image_url1\", \"image_url2\"]] = test_df[[\"image_url1\", \"image_url2\"]].applymap(lambda x: x.rsplit(\"/\", 1)[-1])\n",
    "test_df[[\"image_path1\", \"image_path2\"]] = bind_fs(test_df.filter(like=\"image_url\"), IMAGE_PATH, IMG_GLOB)"
   ]
  },
  {
   "cell_type": "code",
   "execution_count": 11,
   "metadata": {},
   "outputs": [],
   "source": [
    "class Predictor:\n",
    "    def __init__(self, transform, col1=\"image_path1\", col2=\"image_path2\"):\n",
    "        self.transform = transform\n",
    "        self._col1 = col1\n",
    "        self._col2 = col2\n",
    "\n",
    "    def process_image(self, path):\n",
    "        img = Image.open(path)\n",
    "        return self.transform(img)\n",
    "\n",
    "    def predict(self, row):\n",
    "        if row[self._col1] is None or row[self._col2] is None:\n",
    "            # print(row)\n",
    "            return None\n",
    "        try:\n",
    "            hash1 = self.process_image(row[self._col1])\n",
    "            hash2 = self.process_image(row[self._col2])\n",
    "        except (UnidentifiedImageError, OSError):\n",
    "            return None\n",
    "        return hash1 - hash2"
   ]
  },
  {
   "cell_type": "code",
   "execution_count": 12,
   "metadata": {},
   "outputs": [
    {
     "data": {
      "text/html": [
       "<div>\n",
       "<style scoped>\n",
       "    .dataframe tbody tr th:only-of-type {\n",
       "        vertical-align: middle;\n",
       "    }\n",
       "\n",
       "    .dataframe tbody tr th {\n",
       "        vertical-align: top;\n",
       "    }\n",
       "\n",
       "    .dataframe thead th {\n",
       "        text-align: right;\n",
       "    }\n",
       "</style>\n",
       "<table border=\"1\" class=\"dataframe\">\n",
       "  <thead>\n",
       "    <tr style=\"text-align: right;\">\n",
       "      <th></th>\n",
       "      <th>image_url1</th>\n",
       "      <th>image_url2</th>\n",
       "      <th>is_same</th>\n",
       "      <th>image_path1</th>\n",
       "      <th>image_path2</th>\n",
       "    </tr>\n",
       "  </thead>\n",
       "  <tbody>\n",
       "    <tr>\n",
       "      <th>0</th>\n",
       "      <td>941374542.jpg</td>\n",
       "      <td>941588763.jpg</td>\n",
       "      <td>1</td>\n",
       "      <td>../dataset/images-b2/941374542.jpg</td>\n",
       "      <td>../dataset/images-b1/941588763.jpg</td>\n",
       "    </tr>\n",
       "    <tr>\n",
       "      <th>1</th>\n",
       "      <td>899704859.jpg</td>\n",
       "      <td>940179676.jpg</td>\n",
       "      <td>0</td>\n",
       "      <td>../dataset/images-b2/899704859.jpg</td>\n",
       "      <td>../dataset/images-b2/940179676.jpg</td>\n",
       "    </tr>\n",
       "    <tr>\n",
       "      <th>2</th>\n",
       "      <td>892607076.jpg</td>\n",
       "      <td>928668915.jpg</td>\n",
       "      <td>0</td>\n",
       "      <td>../dataset/images-b3/892607076.jpg</td>\n",
       "      <td>../dataset/images-b2/928668915.jpg</td>\n",
       "    </tr>\n",
       "    <tr>\n",
       "      <th>3</th>\n",
       "      <td>917418509.jpg</td>\n",
       "      <td>917920631.jpg</td>\n",
       "      <td>1</td>\n",
       "      <td>../dataset/images-b3/917418509.jpg</td>\n",
       "      <td>../dataset/images-b3/917920631.jpg</td>\n",
       "    </tr>\n",
       "    <tr>\n",
       "      <th>4</th>\n",
       "      <td>899358242.jpg</td>\n",
       "      <td>910255023.jpg</td>\n",
       "      <td>0</td>\n",
       "      <td>../dataset/images-b3/899358242.jpg</td>\n",
       "      <td>../dataset/images-b2/910255023.jpg</td>\n",
       "    </tr>\n",
       "    <tr>\n",
       "      <th>...</th>\n",
       "      <td>...</td>\n",
       "      <td>...</td>\n",
       "      <td>...</td>\n",
       "      <td>...</td>\n",
       "      <td>...</td>\n",
       "    </tr>\n",
       "    <tr>\n",
       "      <th>18146</th>\n",
       "      <td>930719593.jpg</td>\n",
       "      <td>938692480.jpg</td>\n",
       "      <td>0</td>\n",
       "      <td>../dataset/images-b2/930719593.jpg</td>\n",
       "      <td>../dataset/images-b2/938692480.jpg</td>\n",
       "    </tr>\n",
       "    <tr>\n",
       "      <th>18147</th>\n",
       "      <td>930447711.jpg</td>\n",
       "      <td>931167498.jpg</td>\n",
       "      <td>1</td>\n",
       "      <td>../dataset/images-b2/930447711.jpg</td>\n",
       "      <td>../dataset/images-b2/931167498.jpg</td>\n",
       "    </tr>\n",
       "    <tr>\n",
       "      <th>18148</th>\n",
       "      <td>903267789.jpg</td>\n",
       "      <td>926730753.jpg</td>\n",
       "      <td>0</td>\n",
       "      <td>../dataset/images-b3/903267789.jpg</td>\n",
       "      <td>../dataset/images-b3/926730753.jpg</td>\n",
       "    </tr>\n",
       "    <tr>\n",
       "      <th>18149</th>\n",
       "      <td>924358116.jpg</td>\n",
       "      <td>925851577.jpg</td>\n",
       "      <td>0</td>\n",
       "      <td>../dataset/images-b2/924358116.jpg</td>\n",
       "      <td>../dataset/images-b1/925851577.jpg</td>\n",
       "    </tr>\n",
       "    <tr>\n",
       "      <th>18150</th>\n",
       "      <td>940130111.jpg</td>\n",
       "      <td>944768264.jpg</td>\n",
       "      <td>0</td>\n",
       "      <td>../dataset/images-b3/940130111.jpg</td>\n",
       "      <td>../dataset/images-b3/944768264.jpg</td>\n",
       "    </tr>\n",
       "  </tbody>\n",
       "</table>\n",
       "<p>18151 rows × 5 columns</p>\n",
       "</div>"
      ],
      "text/plain": [
       "          image_url1     image_url2  is_same   \n",
       "0      941374542.jpg  941588763.jpg        1  \\\n",
       "1      899704859.jpg  940179676.jpg        0   \n",
       "2      892607076.jpg  928668915.jpg        0   \n",
       "3      917418509.jpg  917920631.jpg        1   \n",
       "4      899358242.jpg  910255023.jpg        0   \n",
       "...              ...            ...      ...   \n",
       "18146  930719593.jpg  938692480.jpg        0   \n",
       "18147  930447711.jpg  931167498.jpg        1   \n",
       "18148  903267789.jpg  926730753.jpg        0   \n",
       "18149  924358116.jpg  925851577.jpg        0   \n",
       "18150  940130111.jpg  944768264.jpg        0   \n",
       "\n",
       "                              image_path1                         image_path2  \n",
       "0      ../dataset/images-b2/941374542.jpg  ../dataset/images-b1/941588763.jpg  \n",
       "1      ../dataset/images-b2/899704859.jpg  ../dataset/images-b2/940179676.jpg  \n",
       "2      ../dataset/images-b3/892607076.jpg  ../dataset/images-b2/928668915.jpg  \n",
       "3      ../dataset/images-b3/917418509.jpg  ../dataset/images-b3/917920631.jpg  \n",
       "4      ../dataset/images-b3/899358242.jpg  ../dataset/images-b2/910255023.jpg  \n",
       "...                                   ...                                 ...  \n",
       "18146  ../dataset/images-b2/930719593.jpg  ../dataset/images-b2/938692480.jpg  \n",
       "18147  ../dataset/images-b2/930447711.jpg  ../dataset/images-b2/931167498.jpg  \n",
       "18148  ../dataset/images-b3/903267789.jpg  ../dataset/images-b3/926730753.jpg  \n",
       "18149  ../dataset/images-b2/924358116.jpg  ../dataset/images-b1/925851577.jpg  \n",
       "18150  ../dataset/images-b3/940130111.jpg  ../dataset/images-b3/944768264.jpg  \n",
       "\n",
       "[18151 rows x 5 columns]"
      ]
     },
     "execution_count": 12,
     "metadata": {},
     "output_type": "execute_result"
    }
   ],
   "source": [
    "val_df"
   ]
  },
  {
   "cell_type": "code",
   "execution_count": 13,
   "metadata": {},
   "outputs": [
    {
     "data": {
      "application/vnd.jupyter.widget-view+json": {
       "model_id": "ecfdeeef25174825b8aa4736fd4bfea6",
       "version_major": 2,
       "version_minor": 0
      },
      "text/plain": [
       "VBox(children=(HBox(children=(IntProgress(value=0, description='0.00%', max=9061), Label(value='0 / 9061'))), …"
      ]
     },
     "metadata": {},
     "output_type": "display_data"
    }
   ],
   "source": [
    "predictor = Predictor(lambda x: imagehash.phash(x, hash_size=8, highfreq_factor=4))\n",
    "train_df[\"phash\"] = train_df.parallel_apply(predictor.predict, axis=1)"
   ]
  },
  {
   "cell_type": "code",
   "execution_count": 14,
   "metadata": {},
   "outputs": [],
   "source": [
    "sweep_config = {\n",
    "       'method': 'grid',\n",
    "       'parameters': {\n",
    "           'hash_size': {\n",
    "               'values': [4, 8, 16, 32, 64]\n",
    "           },\n",
    "           'highfreq_factor': {\n",
    "               'values': [2, 4, 8, 16, 32, 64]\n",
    "           }\n",
    "       }\n",
    "    }"
   ]
  },
  {
   "cell_type": "code",
   "execution_count": 15,
   "metadata": {},
   "outputs": [],
   "source": [
    "hashfuncs = {\n",
    "\t'ahash': imagehash.average_hash,\n",
    "\t'phash': imagehash.phash,\n",
    "\t'dhash': imagehash.dhash,\n",
    "\t'whash-haar': imagehash.whash,\n",
    "\t'whash-db4': lambda img: imagehash.whash(img, mode='db4'),\n",
    "\t'colorhash': imagehash.colorhash,\n",
    "}"
   ]
  },
  {
   "cell_type": "code",
   "execution_count": 19,
   "metadata": {},
   "outputs": [
    {
     "name": "stdout",
     "output_type": "stream",
     "text": [
      "Create sweep with ID: db1ejh23\n",
      "Sweep URL: https://wandb.ai/nikita-fordui/uncategorized/sweeps/db1ejh23\n"
     ]
    }
   ],
   "source": [
    "WANDB_NOTEBOOK_NAME = \"11_phash_gridsearch\"\n",
    "sweep_id = wandb.sweep(sweep_config)"
   ]
  },
  {
   "cell_type": "code",
   "execution_count": null,
   "metadata": {},
   "outputs": [],
   "source": [
    "def phash_gridsearch():\n",
    "    wandb.init(project=\"csc_hackathon_lun\")\n",
    "    predictor = Predictor(lambda x: imagehash.phash(x, \n",
    "                                                    hash_size=wandb.config.hash_size, \n",
    "                                                    highfreq_factor=wandb.config.highfreq_factor))\n",
    "    train_df[\"phash\"] = train_df.parallel_apply(predictor.predict, axis=1)\n",
    "    res = {}\n",
    "    for i in np.arange(train_df[\"phash\"].min(), train_df[\"phash\"].max()):\n",
    "        res[i] = f1_score(train_df[\"is_same\"], train_df[\"phash\"] < i)\n",
    "    threshold = max(res, key=res.get)\n",
    "    wandb.log({\"train_f1\": res.get(threshold), \n",
    "               \"threshold\": threshold})"
   ]
  }
 ],
 "metadata": {
  "kernelspec": {
   "display_name": "torch",
   "language": "python",
   "name": "python3"
  },
  "language_info": {
   "codemirror_mode": {
    "name": "ipython",
    "version": 3
   },
   "file_extension": ".py",
   "mimetype": "text/x-python",
   "name": "python",
   "nbconvert_exporter": "python",
   "pygments_lexer": "ipython3",
   "version": "3.10.11"
  },
  "orig_nbformat": 4
 },
 "nbformat": 4,
 "nbformat_minor": 2
}
