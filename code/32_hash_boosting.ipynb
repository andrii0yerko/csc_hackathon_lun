{
 "cells": [
  {
   "cell_type": "code",
   "execution_count": 3,
   "metadata": {},
   "outputs": [
    {
     "name": "stdout",
     "output_type": "stream",
     "text": [
      "/home/jovyan/work/dev/Others/yerko/other/csc\n"
     ]
    }
   ],
   "source": [
    "%cd ~/work/dev/Others/yerko/other/csc"
   ]
  },
  {
   "cell_type": "code",
   "execution_count": 42,
   "metadata": {},
   "outputs": [],
   "source": [
    "import pandas as pd\n",
    "from pathlib import Path\n",
    "import lightgbm as lgb\n",
    "from pymongo import MongoClient\n",
    "import matplotlib.pyplot as plt\n",
    "\n",
    "from creds import MONGO_SERVER_URL"
   ]
  },
  {
   "attachments": {},
   "cell_type": "markdown",
   "metadata": {},
   "source": [
    "## Load data"
   ]
  },
  {
   "cell_type": "code",
   "execution_count": 43,
   "metadata": {},
   "outputs": [],
   "source": [
    "VERSION = \"v2.9_sm_features\"\n",
    "\n",
    "\n",
    "mc = MongoClient(MONGO_SERVER_URL)\n",
    "featurestore = mc.csc.featurestore\n",
    "\n",
    "base_fields = [\n",
    "    \"_id\",\n",
    "    # \"image_url1\",\n",
    "    # \"image_url2\",\n",
    "    \"ID\",\n",
    "    \"is_same\",\n",
    "]\n",
    "\n",
    "features_v2 = [\n",
    "    # \"left_grayscale\",\n",
    "    # \"right_grayscale\",\n",
    "    # \"unpadded.ahash_16\",\n",
    "    \"unpadded.ahash_4\",\n",
    "    # \"unpadded.ahash_8\",\n",
    "    \"unpadded.colorhash_21\",\n",
    "    # \"unpadded.colorhash_63\",\n",
    "    # \"unpadded.dhash_16\",\n",
    "    \"unpadded.dhash_4\",\n",
    "    # \"unpadded.dhash_8\",\n",
    "    # \"unpadded.dhash_verical_16\",\n",
    "    # \"unpadded.height_diff\",\n",
    "    # \"unpadded.height_ratio\",\n",
    "    # \"unpadded.left_height\",\n",
    "    # \"unpadded.left_width\",\n",
    "    # \"unpadded.phash_16_8\",\n",
    "    \"unpadded.phash_4\",\n",
    "    # \"unpadded.phash_8\",\n",
    "    # \"unpadded.right_height\",\n",
    "    # \"unpadded.right_width\",\n",
    "    # \"unpadded.sift_similarity\",\n",
    "    \"unpadded.orb_similarity\",\n",
    "    # \"unpadded.whash_16_db4\",\n",
    "    # \"unpadded.whash_16_haar\",\n",
    "    \"unpadded.whash_4_haar\",\n",
    "    # \"unpadded.whash_8_haar\",\n",
    "    # \"unpadded.width_diff\",\n",
    "    # \"unpadded.width_ratio\",\n",
    "]\n",
    "\n",
    "df = pd.json_normalize(featurestore.find({\"is_test\": False}, base_fields + features_v2))\n",
    "df_test = pd.json_normalize(featurestore.find({\"is_test\": True}, base_fields + features_v2))\n"
   ]
  },
  {
   "attachments": {},
   "cell_type": "markdown",
   "metadata": {},
   "source": [
    "## Tune num_round"
   ]
  },
  {
   "cell_type": "code",
   "execution_count": 44,
   "metadata": {},
   "outputs": [
    {
     "name": "stderr",
     "output_type": "stream",
     "text": [
      "c:\\Users\\Andrii\\AppData\\Local\\Programs\\Python\\Python311\\Lib\\site-packages\\lightgbm\\engine.py:573: UserWarning: Found `num_round` in params. Will use it instead of argument\n",
      "  _log_warning(f\"Found `{alias}` in params. Will use it instead of argument\")\n"
     ]
    },
    {
     "name": "stdout",
     "output_type": "stream",
     "text": [
      "[LightGBM] [Info] Number of positive: 23162, number of negative: 49348\n",
      "[LightGBM] [Warning] Auto-choosing row-wise multi-threading, the overhead of testing was 0.000640 seconds.\n",
      "You can set `force_row_wise=true` to remove the overhead.\n",
      "And if memory is not enough, you can set `force_col_wise=true`.\n",
      "[LightGBM] [Info] Total Bins 466\n",
      "[LightGBM] [Info] Number of data points in the train set: 72510, number of used features: 6\n",
      "[LightGBM] [Info] Number of positive: 23162, number of negative: 49348\n",
      "[LightGBM] [Warning] Auto-choosing row-wise multi-threading, the overhead of testing was 0.000646 seconds.\n",
      "You can set `force_row_wise=true` to remove the overhead.\n",
      "And if memory is not enough, you can set `force_col_wise=true`.\n",
      "[LightGBM] [Info] Total Bins 466\n",
      "[LightGBM] [Info] Number of data points in the train set: 72510, number of used features: 6\n",
      "[LightGBM] [Info] Number of positive: 23162, number of negative: 49348\n",
      "[LightGBM] [Warning] Auto-choosing row-wise multi-threading, the overhead of testing was 0.000638 seconds.\n",
      "You can set `force_row_wise=true` to remove the overhead.\n",
      "And if memory is not enough, you can set `force_col_wise=true`.\n",
      "[LightGBM] [Info] Total Bins 466\n",
      "[LightGBM] [Info] Number of data points in the train set: 72510, number of used features: 6\n",
      "[LightGBM] [Info] Number of positive: 23163, number of negative: 49348\n",
      "[LightGBM] [Warning] Auto-choosing row-wise multi-threading, the overhead of testing was 0.000582 seconds.\n",
      "You can set `force_row_wise=true` to remove the overhead.\n",
      "And if memory is not enough, you can set `force_col_wise=true`.\n",
      "[LightGBM] [Info] Total Bins 466\n",
      "[LightGBM] [Info] Number of data points in the train set: 72511, number of used features: 6\n",
      "[LightGBM] [Info] Number of positive: 23163, number of negative: 49348\n",
      "[LightGBM] [Warning] Auto-choosing row-wise multi-threading, the overhead of testing was 0.000663 seconds.\n",
      "You can set `force_row_wise=true` to remove the overhead.\n",
      "And if memory is not enough, you can set `force_col_wise=true`.\n",
      "[LightGBM] [Info] Total Bins 466\n",
      "[LightGBM] [Info] Number of data points in the train set: 72511, number of used features: 6\n",
      "[LightGBM] [Info] [binary:BoostFromScore]: pavg=0.319432 -> initscore=-0.756384\n",
      "[LightGBM] [Info] Start training from score -0.756384\n",
      "[LightGBM] [Info] [binary:BoostFromScore]: pavg=0.319432 -> initscore=-0.756384\n",
      "[LightGBM] [Info] Start training from score -0.756384\n",
      "[LightGBM] [Info] [binary:BoostFromScore]: pavg=0.319432 -> initscore=-0.756384\n",
      "[LightGBM] [Info] Start training from score -0.756384\n",
      "[LightGBM] [Info] [binary:BoostFromScore]: pavg=0.319441 -> initscore=-0.756341\n",
      "[LightGBM] [Info] Start training from score -0.756341\n",
      "[LightGBM] [Info] [binary:BoostFromScore]: pavg=0.319441 -> initscore=-0.756341\n",
      "[LightGBM] [Info] Start training from score -0.756341\n",
      "48 0.9991369941265715\n"
     ]
    },
    {
     "data": {
      "image/png": "[encoded data removed]",
      "text/plain": [
       "<Figure size 640x480 with 1 Axes>"
      ]
     },
     "metadata": {},
     "output_type": "display_data"
    }
   ],
   "source": [
    "# use it to find best num round\n",
    "from sklearn.metrics import f1_score\n",
    "import numpy as np\n",
    "\n",
    "def lgb_f1_score(y_hat, data):\n",
    "    y_true = data.get_label()\n",
    "    y_hat = np.round(y_hat) # scikits f1 doesn't like probabilities\n",
    "    return 'f1', f1_score(y_true, y_hat, average=\"macro\"), True\n",
    "\n",
    "param = {\n",
    "    # \"max_depth\": 5,\n",
    "    \"n_jobs\": 32,\n",
    "    \"num_round\": 50,\n",
    "    'metric': [],\n",
    "    'objective': 'binary'\n",
    "}\n",
    "\n",
    "train_lgbm = lgb.Dataset(df.drop([\"is_same\", \"_id\"], axis=1), \n",
    "                         label=df[\"is_same\"])\n",
    "clf = lgb.cv(param, train_lgbm, feval=lgb_f1_score, seed=42, nfold=5, return_cvbooster=True)\n",
    "\n",
    "plt.plot(clf['f1-mean'], marker=\".\")\n",
    "plt.ylim(0.995, 1)\n",
    "\n",
    "print(np.argmax(clf['f1-mean']), np.max(clf['f1-mean']))"
   ]
  },
  {
   "attachments": {},
   "cell_type": "markdown",
   "metadata": {},
   "source": [
    "## Collect metrics"
   ]
  },
  {
   "cell_type": "code",
   "execution_count": 45,
   "metadata": {},
   "outputs": [
    {
     "name": "stderr",
     "output_type": "stream",
     "text": [
      "c:\\Users\\Andrii\\AppData\\Local\\Programs\\Python\\Python311\\Lib\\site-packages\\lightgbm\\engine.py:177: UserWarning: Found `num_iterations` in params. Will use it instead of argument\n",
      "  _log_warning(f\"Found `{alias}` in params. Will use it instead of argument\")\n",
      "c:\\Users\\Andrii\\AppData\\Local\\Programs\\Python\\Python311\\Lib\\site-packages\\lightgbm\\engine.py:177: UserWarning: Found `num_iterations` in params. Will use it instead of argument\n",
      "  _log_warning(f\"Found `{alias}` in params. Will use it instead of argument\")\n",
      "c:\\Users\\Andrii\\AppData\\Local\\Programs\\Python\\Python311\\Lib\\site-packages\\lightgbm\\engine.py:177: UserWarning: Found `num_iterations` in params. Will use it instead of argument\n",
      "  _log_warning(f\"Found `{alias}` in params. Will use it instead of argument\")\n",
      "c:\\Users\\Andrii\\AppData\\Local\\Programs\\Python\\Python311\\Lib\\site-packages\\lightgbm\\engine.py:177: UserWarning: Found `num_iterations` in params. Will use it instead of argument\n",
      "  _log_warning(f\"Found `{alias}` in params. Will use it instead of argument\")\n",
      "c:\\Users\\Andrii\\AppData\\Local\\Programs\\Python\\Python311\\Lib\\site-packages\\lightgbm\\engine.py:177: UserWarning: Found `num_iterations` in params. Will use it instead of argument\n",
      "  _log_warning(f\"Found `{alias}` in params. Will use it instead of argument\")\n"
     ]
    },
    {
     "name": "stdout",
     "output_type": "stream",
     "text": [
      "Train: 0.9990608917639111 0.0001354167533156331\n",
      "Best threshold: 0.4 0.9990736827384386\n",
      "              precision    recall  f1-score   support\n",
      "\n",
      "         0.0   0.999287  0.999530  0.999408     61685\n",
      "         1.0   0.998998  0.998480  0.998739     28953\n",
      "\n",
      "    accuracy                       0.999195     90638\n",
      "   macro avg   0.999142  0.999005  0.999074     90638\n",
      "weighted avg   0.999195  0.999195  0.999195     90638\n",
      "\n",
      "roc_auc_score(y, y_pred)=0.999798924201687\n"
     ]
    }
   ],
   "source": [
    "import numpy as np\n",
    "import matplotlib.pyplot as plt\n",
    "import lightgbm as lgb\n",
    "from lightgbm import LGBMClassifier\n",
    "from sklearn.model_selection import cross_validate\n",
    "from sklearn.metrics import f1_score, classification_report, roc_auc_score\n",
    "\n",
    "\n",
    "param = {\n",
    "    # \"max_depth\": 5,\n",
    "    \"n_jobs\": 32,\n",
    "    \"num_iterations\": 43,\n",
    "    'metric': [],\n",
    "    'objective': 'binary'\n",
    "}\n",
    "\n",
    "X = df.drop([\"is_same\", \"_id\"], axis=1)\n",
    "y = df[\"is_same\"]\n",
    "\n",
    "clf = LGBMClassifier(**param)\n",
    "results = cross_validate(clf, X, y, cv=5, scoring=\"f1_macro\", return_estimator=True, return_indices=True)\n",
    "\n",
    "y_pred = np.zeros_like(y)\n",
    "test_pred_oof = []\n",
    "for model, idx in zip(results[\"estimator\"], results[\"indices\"][\"test\"]):\n",
    "    y_pred[idx] = model.predict_proba(X.iloc[idx])[:, 1]\n",
    "    test_pred_oof.append(model.predict_proba(df_test.drop([\"_id\", \"ID\"], axis=1))[:, 1])\n",
    "test_pred_oof = np.mean(test_pred_oof, axis=0)\n",
    "\n",
    "scores = results[\"test_score\"]\n",
    "print(\"Train:\", scores.mean(), scores.std())\n",
    "\n",
    "thresholds = np.arange(0.1, 0.9, 0.1)\n",
    "scores = [f1_score(y, y_pred > threshold, average=\"macro\") for threshold in thresholds]\n",
    "\n",
    "i = np.argmax(scores)\n",
    "best_threshold = thresholds[i]\n",
    "score = scores[i]\n",
    "print(\"Best threshold:\", best_threshold, score)\n",
    "\n",
    "print(classification_report(y, y_pred > best_threshold, digits=6))\n",
    "\n",
    "print(f\"{roc_auc_score(y, y_pred)=}\")"
   ]
  },
  {
   "attachments": {},
   "cell_type": "markdown",
   "metadata": {},
   "source": [
    "## Predict & Save"
   ]
  },
  {
   "cell_type": "code",
   "execution_count": 38,
   "metadata": {},
   "outputs": [],
   "source": [
    "def get_submission(ids, predicts, thresold=0.5):\n",
    "    submission = pd.DataFrame({\n",
    "        \"ID\": ids,\n",
    "        \"is_same\": predicts\n",
    "    })\n",
    "\n",
    "    submission[\"is_same\"] = submission[\"is_same\"].astype(int)\n",
    "    submission[\"same\"] = (submission[\"is_same\"] == 1).astype(int)\n",
    "    submission[\"different\"] = (submission[\"is_same\"] == 0).astype(int)\n",
    "    submission.drop(columns=[\"is_same\"], inplace=True)\n",
    "    return submission"
   ]
  },
  {
   "cell_type": "code",
   "execution_count": 39,
   "metadata": {},
   "outputs": [],
   "source": [
    "df[\"predict\"] = y_pred\n",
    "df[\"predict_label\"] = (df[\"predict\"] > best_threshold).astype(int)\n",
    "df.to_csv(f\"lgbm_{VERSION}_validation.csv\", index=False)"
   ]
  },
  {
   "cell_type": "code",
   "execution_count": 40,
   "metadata": {},
   "outputs": [],
   "source": [
    "submission = get_submission(df_test[\"ID\"], test_pred_oof > best_threshold)\n",
    "submission.to_csv(f\"lgbm_{VERSION}_submission_oof.csv\", index=False)"
   ]
  },
  {
   "cell_type": "code",
   "execution_count": 41,
   "metadata": {},
   "outputs": [
    {
     "name": "stderr",
     "output_type": "stream",
     "text": [
      "c:\\Users\\Andrii\\AppData\\Local\\Programs\\Python\\Python311\\Lib\\site-packages\\lightgbm\\engine.py:177: UserWarning: Found `num_iterations` in params. Will use it instead of argument\n",
      "  _log_warning(f\"Found `{alias}` in params. Will use it instead of argument\")\n"
     ]
    }
   ],
   "source": [
    "model = clf.fit(X, y)\n",
    "test_pred = model.predict_proba(df_test.drop([\"_id\", \"ID\"], axis=1))[:, 1]\n",
    "\n",
    "submission = get_submission(df_test[\"ID\"], test_pred > best_threshold)\n",
    "submission.to_csv(f\"lgbm_{VERSION}_submission.csv\", index=False)"
   ]
  },
  {
   "cell_type": "code",
   "execution_count": 46,
   "metadata": {},
   "outputs": [
    {
     "data": {
      "text/plain": [
       "<Axes: title={'center': 'Feature importance'}, xlabel='Feature importance', ylabel='Features'>"
      ]
     },
     "execution_count": 46,
     "metadata": {},
     "output_type": "execute_result"
    },
    {
     "data": {
      "image/png": "[encoded data removed]",
      "text/plain": [
       "<Figure size 640x480 with 1 Axes>"
      ]
     },
     "metadata": {},
     "output_type": "display_data"
    }
   ],
   "source": [
    "lgb.plot_importance(model)"
   ]
  },
  {
   "cell_type": "code",
   "execution_count": null,
   "metadata": {},
   "outputs": [],
   "source": []
  }
 ],
 "metadata": {
  "kernelspec": {
   "display_name": "Python 3 (ipykernel)",
   "language": "python",
   "name": "python3"
  },
  "language_info": {
   "codemirror_mode": {
    "name": "ipython",
    "version": 3
   },
   "file_extension": ".py",
   "mimetype": "text/x-python",
   "name": "python",
   "nbconvert_exporter": "python",
   "pygments_lexer": "ipython3",
   "version": "3.11.4"
  },
  "orig_nbformat": 4
 },
 "nbformat": 4,
 "nbformat_minor": 2
}
