{
 "cells": [
  {
   "cell_type": "code",
   "execution_count": 5,
   "metadata": {
    "execution": {
     "iopub.execute_input": "2023-07-03T21:17:39.287097Z",
     "iopub.status.busy": "2023-07-03T21:17:39.286389Z",
     "iopub.status.idle": "2023-07-03T21:17:43.048394Z",
     "shell.execute_reply": "2023-07-03T21:17:43.047730Z",
     "shell.execute_reply.started": "2023-07-03T21:17:39.287060Z"
    },
    "tags": []
   },
   "outputs": [
    {
     "name": "stdout",
     "output_type": "stream",
     "text": [
      "Collecting imagehash\n",
      "  Downloading ImageHash-4.3.1-py2.py3-none-any.whl (296 kB)\n",
      "\u001b[2K     \u001b[90m━━━━━━━━━━━━━━━━━━━━━━━━━━━━━━━━━━━━━━\u001b[0m \u001b[32m296.5/296.5 kB\u001b[0m \u001b[31m51.7 MB/s\u001b[0m eta \u001b[36m0:00:00\u001b[0m\n",
      "\u001b[?25hRequirement already satisfied: scipy in /opt/conda/lib/python3.10/site-packages (from imagehash) (1.9.1)\n",
      "Requirement already satisfied: numpy in /opt/conda/lib/python3.10/site-packages (from imagehash) (1.22.4)\n",
      "Requirement already satisfied: PyWavelets in /opt/conda/lib/python3.10/site-packages (from imagehash) (1.3.0)\n",
      "Requirement already satisfied: pillow in /opt/conda/lib/python3.10/site-packages (from imagehash) (9.2.0)\n",
      "Installing collected packages: imagehash\n",
      "Successfully installed imagehash-4.3.1\n"
     ]
    }
   ],
   "source": [
    "!pip install imagehash"
   ]
  },
  {
   "cell_type": "code",
   "execution_count": 6,
   "metadata": {
    "_cell_guid": "b1076dfc-b9ad-4769-8c92-a6c4dae69d19",
    "_uuid": "8f2839f25d086af736a60e9eeb907d3b93b6e0e5",
    "execution": {
     "iopub.execute_input": "2023-07-03T21:17:45.137534Z",
     "iopub.status.busy": "2023-07-03T21:17:45.136279Z",
     "iopub.status.idle": "2023-07-03T21:17:45.262594Z",
     "shell.execute_reply": "2023-07-03T21:17:45.261845Z",
     "shell.execute_reply.started": "2023-07-03T21:17:45.137464Z"
    },
    "tags": []
   },
   "outputs": [
    {
     "name": "stdout",
     "output_type": "stream",
     "text": [
      "INFO: Pandarallel will run on 62 workers.\n",
      "INFO: Pandarallel will use Memory file system to transfer data between the main process and workers.\n"
     ]
    }
   ],
   "source": [
    "import os\n",
    "from pathlib import Path\n",
    "\n",
    "import numpy as np\n",
    "import pandas as pd\n",
    "import imagehash\n",
    "from PIL import Image, UnidentifiedImageError\n",
    "from tqdm.auto import tqdm as tn\n",
    "from sklearn.metrics import f1_score\n",
    "\n",
    "from pandarallel import pandarallel\n",
    "\n",
    "\n",
    "tn.pandas()\n",
    "pandarallel.initialize(progress_bar=True, nb_workers=os.cpu_count())"
   ]
  },
  {
   "cell_type": "code",
   "execution_count": 10,
   "metadata": {
    "execution": {
     "iopub.execute_input": "2023-07-03T21:18:10.838406Z",
     "iopub.status.busy": "2023-07-03T21:18:10.837867Z",
     "iopub.status.idle": "2023-07-03T21:18:10.843022Z",
     "shell.execute_reply": "2023-07-03T21:18:10.842367Z",
     "shell.execute_reply.started": "2023-07-03T21:18:10.838378Z"
    },
    "tags": []
   },
   "outputs": [],
   "source": [
    "# DATA_PATH = Path(\"/kaggle/input/csc-hack-lun-dataset\")\n",
    "# COMP_DATA_PATH = Path(\"/kaggle/input/csc-hackathon-2023-lunua-task\")\n",
    "# IMAGE_PATH = Path(\"/kaggle/input/csc-hack-lun-dataset/dataset\")\n",
    "DATA_PATH = Path(\"data\")\n",
    "COMP_DATA_PATH = Path(\"data\")\n",
    "IMAGE_PATH = Path(\"dataset\")\n",
    "\n",
    "TEST_SET = COMP_DATA_PATH / \"test-data.csv\"\n",
    "TRAIN_SPLIT = DATA_PATH / \"train_split_20perval_grouped_stratified.csv\"\n",
    "VAL_SPLIT = DATA_PATH / \"val_split_20perval_grouped_stratified.csv\"\n",
    "\n",
    "IMG_GLOB = \"images*/*.jpg\""
   ]
  },
  {
   "cell_type": "code",
   "execution_count": 11,
   "metadata": {
    "execution": {
     "iopub.execute_input": "2023-07-03T21:18:12.222511Z",
     "iopub.status.busy": "2023-07-03T21:18:12.221560Z",
     "iopub.status.idle": "2023-07-03T21:18:12.228053Z",
     "shell.execute_reply": "2023-07-03T21:18:12.227264Z",
     "shell.execute_reply.started": "2023-07-03T21:18:12.222468Z"
    },
    "tags": []
   },
   "outputs": [],
   "source": [
    "def bind_fs(df, path: Path, glob: str):\n",
    "    mapping = {x.name: x for x in path.glob(glob)}\n",
    "    return df.applymap(lambda x: mapping.get(x))"
   ]
  },
  {
   "cell_type": "code",
   "execution_count": 12,
   "metadata": {
    "execution": {
     "iopub.execute_input": "2023-07-03T21:18:12.701523Z",
     "iopub.status.busy": "2023-07-03T21:18:12.700817Z",
     "iopub.status.idle": "2023-07-03T21:18:17.924846Z",
     "shell.execute_reply": "2023-07-03T21:18:17.923948Z",
     "shell.execute_reply.started": "2023-07-03T21:18:12.701497Z"
    },
    "tags": []
   },
   "outputs": [],
   "source": [
    "val_df = pd.read_csv(VAL_SPLIT)\n",
    "val_df[[\"image_path1\", \"image_path2\"]] = bind_fs(val_df.filter(like=\"image_url\"), IMAGE_PATH, IMG_GLOB)\n",
    "\n",
    "train_df = pd.read_csv(TRAIN_SPLIT)\n",
    "train_df[[\"image_path1\", \"image_path2\"]] = bind_fs(train_df.filter(like=\"image_url\"), IMAGE_PATH, IMG_GLOB)\n",
    "\n",
    "test_df = pd.read_csv(TEST_SET)\n",
    "test_df[[\"image_url1\", \"image_url2\"]] = test_df[[\"image_url1\", \"image_url2\"]].applymap(lambda x: x.rsplit(\"/\", 1)[-1])\n",
    "test_df[[\"image_path1\", \"image_path2\"]] = bind_fs(test_df.filter(like=\"image_url\"), IMAGE_PATH, IMG_GLOB)"
   ]
  },
  {
   "cell_type": "code",
   "execution_count": 62,
   "metadata": {
    "execution": {
     "iopub.execute_input": "2023-07-03T22:17:09.008333Z",
     "iopub.status.busy": "2023-07-03T22:17:09.007090Z",
     "iopub.status.idle": "2023-07-03T22:17:09.025948Z",
     "shell.execute_reply": "2023-07-03T22:17:09.024535Z",
     "shell.execute_reply.started": "2023-07-03T22:17:09.008272Z"
    },
    "tags": []
   },
   "outputs": [],
   "source": [
    "class Predictor:\n",
    "    def __init__(self, transforms, col1=\"image_path1\", col2=\"image_path2\"):\n",
    "        self.transforms = transforms\n",
    "        self._col1 = col1\n",
    "        self._col2 = col2\n",
    "\n",
    "    def transform_image(self, img):\n",
    "\n",
    "        return {k: transform(img) for k, transform in self.transforms.items()}\n",
    "\n",
    "    def predict(self, row):\n",
    "        if row[self._col1] is None or row[self._col2] is None:\n",
    "            # print(row)\n",
    "            return None\n",
    "        try:\n",
    "            img1 = Image.open(row[self._col1])\n",
    "            img2 = Image.open(row[self._col2])\n",
    "            hashes1 = self.transform_image(img1)\n",
    "            hashes2 = self.transform_image(img2)\n",
    "        except (UnidentifiedImageError, OSError):\n",
    "            return {}\n",
    "        hashres = {}\n",
    "        for k in hashes1:\n",
    "            try:\n",
    "                hashres[k] = hashes1[k] - hashes2[k]\n",
    "            except:\n",
    "                hashres[k] = np.nan\n",
    "        hashres[\"left_height\"] = img1.height\n",
    "        hashres[\"right_height\"] = img2.height\n",
    "        hashres[\"left_width\"] = img1.width\n",
    "        hashres[\"right_width\"] = img2.width\n",
    "        return hashres"
   ]
  },
  {
   "cell_type": "code",
   "execution_count": 64,
   "metadata": {
    "execution": {
     "iopub.execute_input": "2023-07-03T22:17:10.813529Z",
     "iopub.status.busy": "2023-07-03T22:17:10.812951Z",
     "iopub.status.idle": "2023-07-03T22:17:16.541981Z",
     "shell.execute_reply": "2023-07-03T22:17:16.537915Z",
     "shell.execute_reply.started": "2023-07-03T22:17:10.813503Z"
    },
    "tags": []
   },
   "outputs": [],
   "source": [
    "transforms = {\n",
    "    \"ahash_16\": lambda x: imagehash.average_hash(x, 16),\n",
    "    \"phash_16_8\": lambda x: imagehash.phash(x, hash_size=16, highfreq_factor=8),\n",
    "    \"phash\": lambda x: imagehash.phash(x, hash_size=16, highfreq_factor=8),\n",
    "    \"dhash_verical_16\": lambda x: imagehash.dhash_vertical(x, hash_size=16),\n",
    "    \"dhash_16\": lambda x: imagehash.dhash(x, hash_size=16),\n",
    "    \"colorhash_21\": lambda x: imagehash.colorhash(x, binbits=21),\n",
    "    \"colorhash_33\": lambda x: imagehash.colorhash(x, binbits=33),\n",
    "    \"colorhash_63\": lambda x: imagehash.colorhash(x, binbits=63),\n",
    "    \"colorhash_123\": lambda x: imagehash.colorhash(x, binbits=123),\n",
    "    \"whash_16_haar\": lambda x: imagehash.whash(x, 16, mode=\"haar\"),\n",
    "    \"whash_16_db4\": lambda x: imagehash.whash(x, 16, mode=\"db4\"),\n",
    "}\n",
    "\n",
    "predictor = Predictor(transforms)\n",
    "features = train_df.parallel_apply(predictor.predict, axis=1)"
   ]
  },
  {
   "cell_type": "code",
   "execution_count": 58,
   "metadata": {
    "execution": {
     "iopub.execute_input": "2023-07-03T22:08:33.529364Z",
     "iopub.status.busy": "2023-07-03T22:08:33.529014Z",
     "iopub.status.idle": "2023-07-03T22:08:33.991842Z",
     "shell.execute_reply": "2023-07-03T22:08:33.990776Z",
     "shell.execute_reply.started": "2023-07-03T22:08:33.529341Z"
    },
    "tags": []
   },
   "outputs": [],
   "source": [
    "f = pd.Series(features, index=train_df.index)\n",
    "f[f.isna()] = [{} for x in f[f.isna()]]\n",
    "\n",
    "train_df = pd.concat([train_df, pd.DataFrame(f.to_list())], axis=1)\n",
    "train_df.to_csv(\"train_df_with_features_v1.csv\", index=False)"
   ]
  },
  {
   "cell_type": "code",
   "execution_count": 66,
   "metadata": {
    "execution": {
     "iopub.execute_input": "2023-07-03T22:23:23.947458Z",
     "iopub.status.busy": "2023-07-03T22:23:23.946549Z",
     "iopub.status.idle": "2023-07-03T22:23:24.079384Z",
     "shell.execute_reply": "2023-07-03T22:23:24.078496Z",
     "shell.execute_reply.started": "2023-07-03T22:23:23.947408Z"
    },
    "tags": []
   },
   "outputs": [],
   "source": [
    "f = val_df.parallel_apply(predictor.predict, axis=1)\n",
    "\n",
    "val_df = pd.concat([val_df, pd.DataFrame(f.to_list())], axis=1)\n",
    "val_df.to_csv(\"val_df_with_features_v1.csv\", index=False)"
   ]
  },
  {
   "cell_type": "code",
   "execution_count": 69,
   "metadata": {
    "execution": {
     "iopub.execute_input": "2023-07-03T22:24:44.228751Z",
     "iopub.status.busy": "2023-07-03T22:24:44.227918Z",
     "iopub.status.idle": "2023-07-03T22:31:01.808392Z",
     "shell.execute_reply": "2023-07-03T22:31:01.807150Z",
     "shell.execute_reply.started": "2023-07-03T22:24:44.228715Z"
    },
    "tags": []
   },
   "outputs": [
    {
     "data": {
      "application/vnd.jupyter.widget-view+json": {
       "model_id": "8a4191efe3ea429f8d676ad7558c7ff0",
       "version_major": 2,
       "version_minor": 0
      },
      "text/plain": [
       "VBox(children=(HBox(children=(IntProgress(value=0, description='0.00%', max=366), Label(value='0 / 366'))), HB…"
      ]
     },
     "metadata": {},
     "output_type": "display_data"
    }
   ],
   "source": [
    "f = test_df.parallel_apply(predictor.predict, axis=1)\n",
    "\n",
    "test_df = pd.concat([test_df, pd.DataFrame(f.to_list())], axis=1)\n",
    "test_df.to_csv(\"test_df_with_features_v1.csv\", index=False)"
   ]
  }
 ],
 "metadata": {
  "kernelspec": {
   "display_name": "Python 3 (ipykernel)",
   "language": "python",
   "name": "python3"
  },
  "language_info": {
   "codemirror_mode": {
    "name": "ipython",
    "version": 3
   },
   "file_extension": ".py",
   "mimetype": "text/x-python",
   "name": "python",
   "nbconvert_exporter": "python",
   "pygments_lexer": "ipython3",
   "version": "3.11.3"
  }
 },
 "nbformat": 4,
 "nbformat_minor": 4
}
